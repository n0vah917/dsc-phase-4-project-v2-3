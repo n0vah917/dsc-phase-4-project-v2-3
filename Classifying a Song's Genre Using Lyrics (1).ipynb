{
 "cells": [
  {
   "cell_type": "markdown",
   "metadata": {},
   "source": [
    "## Final Project Submission\n",
    "\n",
    "\n",
    "* Student name:  Noah-John Hizon\n",
    "* Student pace: part time \n",
    "* Scheduled project review date/time: 7/29 2:30PM\n",
    "* Instructor name: Abhineet Kulkarni\n",
    "* Blog post URL: "
   ]
  },
  {
   "cell_type": "markdown",
   "metadata": {},
   "source": [
    "# Classifying a Song's Genre Using Lyrics"
   ]
  },
  {
   "cell_type": "markdown",
   "metadata": {},
   "source": [
    "## Project Overview/Summary\n",
    "\n",
    "The focus of this project is to provide a rudimentary tool for music recognition not through the song waveforms but through lyrics. This would be of value to companies like Spotify or Pandora, who can use this capability in order to improve the way people find music through their recommendation systems. Instead of searching by artist/era or album, a potential future recommendation system would be able to find a set of artists/songs who fit similar vibes/moods. \n",
    "\n",
    "Lyric data from Ariana Grande, Eminem, Drake, Post Malone, Taylor Swift, Maroon 5, and Selena Gomez's entire discography was used in order to develop a NLP model that will be able to identify which song belongs to which genre. The genres for identification for this project would be Rap and Pop. \n",
    "\n",
    "Stopwords were removed, and all tokens in the model were lemmatized in order to consolidate via root words. The TF-IDF (Term Frequency - Inverse Document Frequency) Vectorizer is used in conjunction with the Multinomial Naive Bayes classifier, in order to create a model that successfully classifies genre to a song. \n",
    "\n",
    "Differentiating genre solely on a song's lyrics has massive capabilities when it comes to the future of music recognition. The resulting model was able to successfully assign a given genre to a lyric with an accuracy of 92% on training data and 88% on testing data. As a side goal, this project will be able to identify common themes and verbiage that artists tend to use. "
   ]
  },
  {
   "cell_type": "markdown",
   "metadata": {},
   "source": [
    "## Business Problem "
   ]
  },
  {
   "cell_type": "markdown",
   "metadata": {},
   "source": [
    "An artist can be most understood through their lyrics and the messages they convey to their listeners. Generation defining artists like Kendrick Lamar and Frank Ocean captivate their audiences with poetic skill, painting vivid pictures within 16-bar verses. An artist's growth, both in musical talent and personal growth can also be observed their subsequent releases. As an example, the beginning of Drake's rap career started off with raw, unfiltered \"backpack-rapper\" influenced lyrics, heavily relying on his unique charisma as a defining feature. \n",
    "\n",
    "To build off this example, day-one fans of Drake have noticed his lyrical style evolve throughout his 16-year long music career. From emotional tributes, to party bangers, to multi-genre experiemental tracks, themes that express sadness, fame, infatuation, and desensitization can be identified through his word choice. In terms of other artists, when I listen to a Frank Ocean song, I can expect to be sad for hours. When I listen to a Disturbed song, I can expect to be angry, or hyped up. When I listen to a Marvin Gaye song I can expect to learn about the world of injustice he saw through his lyrics. \n",
    "\n",
    "With the plethora of music available nowadays, some might say the market is oversatured. From my personal experience, it can become increasingly harder to search for music that I actually want to listen when I'm in a given mood. Searching by an artist on Spotify is sometimes unpredictable/unfruitful, as artists like Drake have different phases of music theme and style throughout their extensive discography. While public users make playlists titled \"Sad Jams\" or \"Gym Hype\" on Spotify, more often than not, the music within these playlists doesn't typically align with when I'm actually looking to listen to. Even on some level, it would be interesting to see music search capabilities can be improved. Using something as rudimentary/simple as a search bar is antiquated at this point. \n",
    " \n",
    "Lyric data spanning Ariana Grande, Eminem, Drake, Taylor Swift, Maroon 5, Post Malone, and Selena Gomez's artist discography through 2021 will be aggregated/summarized in order to classify a given song lyric text body to its corresponding genre. An NLP (natural language processing) model will be created that will be able to accurately identify each song's respective genre, as well as identify themes/choice words artists tend to use in the process. The output of this project would be a precursor to a larger project for music recognition/recommendation through the use of an artist’s themes. "
   ]
  },
  {
   "cell_type": "markdown",
   "metadata": {},
   "source": [
    "## Data Understanding\n",
    "\n",
    "Lyrics from the lyric aggregate site, Genius, were found pre-scraped from a Kaggle dataset. All packages for interpretation/modeling are imported in this step. Each row in the initial dataset represents an individual song, with its corresponding artist, song title, album title, year of release, and date of publishing. Upon observation, the song lyric text is represented in the Lyric column, as a long string separated by spaces and punctuation."
   ]
  },
  {
   "cell_type": "code",
   "execution_count": 1,
   "metadata": {},
   "outputs": [
    {
     "data": {
      "text/html": [
       "<div>\n",
       "<style scoped>\n",
       "    .dataframe tbody tr th:only-of-type {\n",
       "        vertical-align: middle;\n",
       "    }\n",
       "\n",
       "    .dataframe tbody tr th {\n",
       "        vertical-align: top;\n",
       "    }\n",
       "\n",
       "    .dataframe thead th {\n",
       "        text-align: right;\n",
       "    }\n",
       "</style>\n",
       "<table border=\"1\" class=\"dataframe\">\n",
       "  <thead>\n",
       "    <tr style=\"text-align: right;\">\n",
       "      <th></th>\n",
       "      <th>GENRE</th>\n",
       "      <th>GENRECODE</th>\n",
       "      <th>Artist</th>\n",
       "      <th>Artist Code</th>\n",
       "      <th>Title</th>\n",
       "      <th>Album</th>\n",
       "      <th>Year</th>\n",
       "      <th>Date</th>\n",
       "      <th>Lyric</th>\n",
       "      <th>Len</th>\n",
       "    </tr>\n",
       "  </thead>\n",
       "  <tbody>\n",
       "    <tr>\n",
       "      <th>0</th>\n",
       "      <td>Rap</td>\n",
       "      <td>1</td>\n",
       "      <td>Eminem</td>\n",
       "      <td>1</td>\n",
       "      <td>Remind Me (Intro)</td>\n",
       "      <td>Revival</td>\n",
       "      <td>2017</td>\n",
       "      <td>2017-12-15</td>\n",
       "      <td>yeah damn girl do i drive you crazy you make ...</td>\n",
       "      <td>203</td>\n",
       "    </tr>\n",
       "    <tr>\n",
       "      <th>1</th>\n",
       "      <td>Rap</td>\n",
       "      <td>1</td>\n",
       "      <td>Drake</td>\n",
       "      <td>2</td>\n",
       "      <td>MSG Freestyle (Hot 97)</td>\n",
       "      <td>NaN</td>\n",
       "      <td>2016</td>\n",
       "      <td>2016-08-04</td>\n",
       "      <td>they tellin' lies on hot 97 that's how it goes...</td>\n",
       "      <td>206</td>\n",
       "    </tr>\n",
       "    <tr>\n",
       "      <th>2</th>\n",
       "      <td>Rap</td>\n",
       "      <td>1</td>\n",
       "      <td>Eminem</td>\n",
       "      <td>1</td>\n",
       "      <td>Run Your Jewels (Snippet)</td>\n",
       "      <td>Unreleased Songs</td>\n",
       "      <td>2016</td>\n",
       "      <td>2016-09-14</td>\n",
       "      <td>verse little things start to trouble me pressu...</td>\n",
       "      <td>207</td>\n",
       "    </tr>\n",
       "    <tr>\n",
       "      <th>3</th>\n",
       "      <td>Rap</td>\n",
       "      <td>1</td>\n",
       "      <td>Drake</td>\n",
       "      <td>2</td>\n",
       "      <td>Intro</td>\n",
       "      <td>Comeback Season</td>\n",
       "      <td>2007</td>\n",
       "      <td>2007-10-24</td>\n",
       "      <td>spoken word  you see the difference between me...</td>\n",
       "      <td>208</td>\n",
       "    </tr>\n",
       "    <tr>\n",
       "      <th>4</th>\n",
       "      <td>Rap</td>\n",
       "      <td>1</td>\n",
       "      <td>Drake</td>\n",
       "      <td>2</td>\n",
       "      <td>Drake’s Voice Mail Box #2</td>\n",
       "      <td>Room for Improvement</td>\n",
       "      <td>2006</td>\n",
       "      <td>2006-02-14</td>\n",
       "      <td>message  what up this kim damn ive been trying...</td>\n",
       "      <td>214</td>\n",
       "    </tr>\n",
       "    <tr>\n",
       "      <th>5</th>\n",
       "      <td>Rap</td>\n",
       "      <td>1</td>\n",
       "      <td>Eminem</td>\n",
       "      <td>1</td>\n",
       "      <td>Alfred (Interlude)</td>\n",
       "      <td>Music to Be Murdered By</td>\n",
       "      <td>2020</td>\n",
       "      <td>2020-01-17</td>\n",
       "      <td>spoken how do you do ladies and gentlemen my n...</td>\n",
       "      <td>216</td>\n",
       "    </tr>\n",
       "    <tr>\n",
       "      <th>6</th>\n",
       "      <td>Rap</td>\n",
       "      <td>1</td>\n",
       "      <td>Drake</td>\n",
       "      <td>2</td>\n",
       "      <td>Scorpion Intro</td>\n",
       "      <td>Unreleased Songs</td>\n",
       "      <td>NaN</td>\n",
       "      <td>NaN</td>\n",
       "      <td>yeah  i'm in new york and you're in long islan...</td>\n",
       "      <td>221</td>\n",
       "    </tr>\n",
       "    <tr>\n",
       "      <th>7</th>\n",
       "      <td>Rap</td>\n",
       "      <td>1</td>\n",
       "      <td>Drake</td>\n",
       "      <td>2</td>\n",
       "      <td>Time Flies (Demo)</td>\n",
       "      <td>Unreleased Songs</td>\n",
       "      <td>NaN</td>\n",
       "      <td>NaN</td>\n",
       "      <td>lyrics from snippet     future  girl you know ...</td>\n",
       "      <td>223</td>\n",
       "    </tr>\n",
       "    <tr>\n",
       "      <th>8</th>\n",
       "      <td>Rap</td>\n",
       "      <td>1</td>\n",
       "      <td>Eminem</td>\n",
       "      <td>1</td>\n",
       "      <td>8 Mile: Lily’s Lullaby</td>\n",
       "      <td>8 Mile (Battles, Cyphers &amp; Freestyles)</td>\n",
       "      <td>2002</td>\n",
       "      <td>2002-09-08</td>\n",
       "      <td>i know this girl her name is lily and it's pas...</td>\n",
       "      <td>235</td>\n",
       "    </tr>\n",
       "    <tr>\n",
       "      <th>9</th>\n",
       "      <td>Rap</td>\n",
       "      <td>1</td>\n",
       "      <td>Drake</td>\n",
       "      <td>2</td>\n",
       "      <td>Plenty*</td>\n",
       "      <td>NaN</td>\n",
       "      <td>NaN</td>\n",
       "      <td>NaN</td>\n",
       "      <td>lyrics from snippet   when i get it plenty ple...</td>\n",
       "      <td>235</td>\n",
       "    </tr>\n",
       "  </tbody>\n",
       "</table>\n",
       "</div>"
      ],
      "text/plain": [
       "  GENRE  GENRECODE  Artist  Artist Code                      Title  \\\n",
       "0   Rap          1  Eminem            1          Remind Me (Intro)   \n",
       "1   Rap          1   Drake            2     MSG Freestyle (Hot 97)   \n",
       "2   Rap          1  Eminem            1  Run Your Jewels (Snippet)   \n",
       "3   Rap          1   Drake            2                      Intro   \n",
       "4   Rap          1   Drake            2  Drake’s Voice Mail Box #2   \n",
       "5   Rap          1  Eminem            1         Alfred (Interlude)   \n",
       "6   Rap          1   Drake            2             Scorpion Intro   \n",
       "7   Rap          1   Drake            2          Time Flies (Demo)   \n",
       "8   Rap          1  Eminem            1     8 Mile: Lily’s Lullaby   \n",
       "9   Rap          1   Drake            2                    Plenty*   \n",
       "\n",
       "                                    Album  Year        Date  \\\n",
       "0                                 Revival  2017  2017-12-15   \n",
       "1                                     NaN  2016  2016-08-04   \n",
       "2                        Unreleased Songs  2016  2016-09-14   \n",
       "3                         Comeback Season  2007  2007-10-24   \n",
       "4                    Room for Improvement  2006  2006-02-14   \n",
       "5                 Music to Be Murdered By  2020  2020-01-17   \n",
       "6                        Unreleased Songs   NaN         NaN   \n",
       "7                        Unreleased Songs   NaN         NaN   \n",
       "8  8 Mile (Battles, Cyphers & Freestyles)  2002  2002-09-08   \n",
       "9                                     NaN   NaN         NaN   \n",
       "\n",
       "                                               Lyric  Len  \n",
       "0   yeah damn girl do i drive you crazy you make ...  203  \n",
       "1  they tellin' lies on hot 97 that's how it goes...  206  \n",
       "2  verse little things start to trouble me pressu...  207  \n",
       "3  spoken word  you see the difference between me...  208  \n",
       "4  message  what up this kim damn ive been trying...  214  \n",
       "5  spoken how do you do ladies and gentlemen my n...  216  \n",
       "6  yeah  i'm in new york and you're in long islan...  221  \n",
       "7  lyrics from snippet     future  girl you know ...  223  \n",
       "8  i know this girl her name is lily and it's pas...  235  \n",
       "9  lyrics from snippet   when i get it plenty ple...  235  "
      ]
     },
     "execution_count": 1,
     "metadata": {},
     "output_type": "execute_result"
    }
   ],
   "source": [
    "import pandas as pd\n",
    "import numpy as np\n",
    "import matplotlib.pyplot as plt \n",
    "from sklearn.linear_model import LinearRegression\n",
    "from sklearn.model_selection import GridSearchCV, train_test_split, cross_val_score, KFold\n",
    "from sklearn.naive_bayes import MultinomialNB\n",
    "import statsmodels.formula.api as smf\n",
    "import scipy.stats as stats\n",
    "import statsmodels.stats.api as sms\n",
    "from itertools import combinations\n",
    "from sklearn.tree import DecisionTreeClassifier \n",
    "from sklearn.metrics import accuracy_score, confusion_matrix, plot_confusion_matrix, classification_report, ConfusionMatrixDisplay,precision_score\n",
    "from sklearn.ensemble import RandomForestClassifier\n",
    "\n",
    "from nltk.tokenize import regexp_tokenize, word_tokenize, RegexpTokenizer\n",
    "from nltk.corpus import stopwords, wordnet\n",
    "from nltk import word_tokenize, FreqDist, pos_tag\n",
    "from nltk.stem.wordnet import WordNetLemmatizer\n",
    "from nltk.tokenize import RegexpTokenizer\n",
    "from sklearn.feature_extraction.text import TfidfVectorizer, CountVectorizer\n",
    "\n",
    "import string\n",
    "\n",
    "\n",
    "lyricdata = pd.read_csv('lyrics.csv',header=0)\n",
    "lyricdata.head(10)"
   ]
  },
  {
   "cell_type": "markdown",
   "metadata": {},
   "source": [
    "Across the 7 artists contained in the dataset, there are 2,137 total songs. The split of songs present each genre of interest are about even, 1,084 identified as Rap, and 1,053 identified as Pop.\n",
    "\n",
    "While Rap and Pop are not always mutually exclusive in terms of style, I personally found these genres to be the most divergent within the ones that were present in the overall available dataset. \n",
    "Since the goal of this project is genre classification, it is important that the chosen genres don't have too much assumed overlap with lyrical content/subject matter.\n",
    "\n",
    "Drake, Eminem, and Post Malone were identified as the Rap artists, and Taylor Swift, Ariana Grande, Maroon 5, and Selena Gomez were identified as the Pop artists."
   ]
  },
  {
   "cell_type": "code",
   "execution_count": 25,
   "metadata": {},
   "outputs": [
    {
     "name": "stdout",
     "output_type": "stream",
     "text": [
      "There are 2137 total songs in the dataset\n",
      "__________________\n",
      "Rap    1084\n",
      "Pop    1053\n",
      "Name: GENRE, dtype: int64\n",
      "__________________\n",
      "Eminem           500\n",
      "Drake            444\n",
      "Taylor Swift     440\n",
      "Ariana Grande    271\n",
      "Maroon 5         196\n",
      "Selena Gomez     146\n",
      "Post Malone      140\n",
      "Name: Artist, dtype: int64\n"
     ]
    },
    {
     "data": {
      "text/plain": [
       "<AxesSubplot:title={'center':'Artist Song Counts'}>"
      ]
     },
     "execution_count": 25,
     "metadata": {},
     "output_type": "execute_result"
    },
    {
     "data": {
      "image/png": "[encoded data removed]",
      "text/plain": [
       "<Figure size 432x288 with 1 Axes>"
      ]
     },
     "metadata": {
      "needs_background": "light"
     },
     "output_type": "display_data"
    }
   ],
   "source": [
    "print(f\"There are {len(lyricdata)} total songs in the dataset\")\n",
    "print(\"__________________\")\n",
    "print(lyricdata.GENRE.value_counts())\n",
    "print(\"__________________\")\n",
    "print(lyricdata['Artist'].value_counts())\n",
    "\n",
    "counts=lyricdata['Artist'].value_counts().sort_values(ascending=True)\n",
    "\n",
    "counts.plot(kind='barh',color=['blue','red','red','red','red','blue','blue'],title='Artist Song Counts')"
   ]
  },
  {
   "cell_type": "markdown",
   "metadata": {},
   "source": [
    "Below, artists within the dataset are individually identified, and their average words per song metric is calculated.\n",
    "Naturally, it is expected that rap songs have a higher amount of words per song, due to their lyrical structure looking similar to poetry, and their style of delivery being similar to talking. Rappers like Eminem also have a fast \"flow\", and are known for their emphasis on clever lyricism and long verses. \n",
    "\n",
    "On the contrary, pop songs are often melodic; singers will hold notes for a sustained amount of time to show off their vocal prowess, inherently causing their overall words per song to be lower on average. "
   ]
  },
  {
   "cell_type": "code",
   "execution_count": 497,
   "metadata": {},
   "outputs": [
    {
     "name": "stdout",
     "output_type": "stream",
     "text": [
      "On average, Eminem has 707 words per song\n",
      "On average, Drake has 499 words per song\n",
      "On average, Ariana Grande has 374 words per song\n",
      "On average, Selena Gomez has 335 words per song\n",
      "On average, Taylor Swift has 357 words per song\n",
      "On average, Maroon 5 has 350 words per song\n",
      "On average, Post Malone has 423 words per song\n"
     ]
    }
   ],
   "source": [
    "eminemlyricset=lyricdata[lyricdata['Artist']=='Eminem']['Lyric']\n",
    "drakelyricset=lyricdata[lyricdata['Artist']=='Drake']['Lyric']\n",
    "arianalyricset=lyricdata[lyricdata['Artist']=='Ariana Grande']['Lyric']\n",
    "selenalyricset=lyricdata[lyricdata['Artist']=='Selena Gomez']['Lyric']\n",
    "taylorlyricset=lyricdata[lyricdata['Artist']=='Taylor Swift']['Lyric']\n",
    "maroonlyricset=lyricdata[lyricdata['Artist']=='Maroon 5']['Lyric']\n",
    "postlyricset=lyricdata[lyricdata['Artist']=='Post Malone']['Lyric']\n",
    "\n",
    "fullset=[eminemlyricset,drakelyricset,arianalyricset,selenalyricset,taylorlyricset,maroonlyricset,postlyricset]\n",
    "\n",
    "avgword=[]\n",
    "for artr in artlist:\n",
    "    avgword.append(int(np.mean(artr)))\n",
    "    artlist=[]\n",
    "    for art in fullset:\n",
    "        artlen=[]\n",
    "        df=pd.DataFrame(art,columns=['Lyric'])\n",
    "        df.Lyric=[lyrix.split(' ') for lyrix in df.Lyric]\n",
    "        for lyr in df.Lyric:\n",
    "            artlen.append(len(lyr))\n",
    "        artlist.append(artlen)\n",
    "\n",
    "artists=['Eminem','Drake','Ariana Grande','Selena Gomez','Taylor Swift','Maroon 5','Post Malone']\n",
    "\n",
    "\n",
    "artworddict={artists[i]: avgword[i] for i in range(len(artists))}\n",
    "\n",
    "\n",
    "for k,v in artworddict.items():\n",
    "        print(f\"On average, {k} has {v} words per song\")"
   ]
  },
  {
   "cell_type": "markdown",
   "metadata": {},
   "source": [
    "Now that general metrics regarding the dataset are identified for context, the dataset can now be prepped for modeling."
   ]
  },
  {
   "cell_type": "markdown",
   "metadata": {},
   "source": [
    "## Data Preparation"
   ]
  },
  {
   "cell_type": "markdown",
   "metadata": {},
   "source": [
    "The first step in prepping the dataset to be summarized is to break each lyric (currently stored as a text string in the overall table) into individual tokens, separating by commas, then re-populating as a list in each row in the dataframe.\n",
    "Below, the regular expression pattern is used within the tokenizer to split words, looking for non-letter characters as boundaries while preserving apostrophes within words where relevant.\n",
    "Success is observed due to row 6 still containing \"i'm\" as an individual word, rather than splitting at the apostrophe. "
   ]
  },
  {
   "cell_type": "code",
   "execution_count": 26,
   "metadata": {},
   "outputs": [
    {
     "data": {
      "text/plain": [
       "0     [yeah, damn, girl, do, i, drive, you, crazy, y...\n",
       "1     [they, tellin, lies, on, hot, that's, how, it,...\n",
       "2     [verse, little, things, start, to, trouble, me...\n",
       "3     [spoken, word, you, see, the, difference, betw...\n",
       "4     [message, what, up, this, kim, damn, ive, been...\n",
       "5     [spoken, how, do, you, do, ladies, and, gentle...\n",
       "6     [yeah, i'm, in, new, york, and, you're, in, lo...\n",
       "7     [lyrics, from, snippet, future, girl, you, kno...\n",
       "8     [i, know, this, girl, her, name, is, lily, and...\n",
       "9     [lyrics, from, snippet, when, i, get, it, plen...\n",
       "10    [a, body, map, of, s, tattoos, starting, from,...\n",
       "11    [verse, alice, and, the, glass, lake, i've, dr...\n",
       "12    [lyrics, will, be, available, whenif, the, son...\n",
       "13    [you're, from, timmins, and, i'm, from, toront...\n",
       "14    [skit, get, up, dad, what, what'd, i, fuckin, ...\n",
       "15    [tell, us, that, you, would, like, to, have, t...\n",
       "16    [interlude, this, concludes, our, danse, macab...\n",
       "17    [shook, ones, pt, ii, time's, up, insane, in, ...\n",
       "18    [proof, yeah, soul, intent, checking, in, numb...\n",
       "19    [burps, woo, hey, how, you, guys, doin, you, w...\n",
       "Name: Lyric, dtype: object"
      ]
     },
     "execution_count": 26,
     "metadata": {},
     "output_type": "execute_result"
    }
   ],
   "source": [
    "pattern=r\"([a-zA-Z]+(?:'[a-z]+)?)\"\n",
    "tokenizer=RegexpTokenizer(pattern)\n",
    "lyricdata.Lyric=lyricdata['Lyric'].apply(tokenizer.tokenize)\n",
    "\n",
    "lyricdata.Lyric.head(20)"
   ]
  },
  {
   "cell_type": "code",
   "execution_count": 499,
   "metadata": {},
   "outputs": [
    {
     "name": "stdout",
     "output_type": "stream",
     "text": [
      "27\n",
      "268\n",
      "74\n",
      "111\n",
      "76\n"
     ]
    }
   ],
   "source": [
    "print(len(set(lyricdata.Lyric[0])))\n",
    "print(len(set(lyricdata.Lyric[500])))\n",
    "print(len(set(lyricdata.Lyric[1000])))\n",
    "print(len(set(lyricdata.Lyric[1500])))\n",
    "print(len(set(lyricdata.Lyric[2000])))"
   ]
  },
  {
   "cell_type": "markdown",
   "metadata": {},
   "source": [
    "Prior to importing the dataset, it was observed that most words within the lyric text were already in lowercase, but to account for potential outliers, all words are converted in the following step. \n",
    "It would not be desirable to count 2 words as distinct if their only differing factor is case (e.g. \"I'm\" vs \"i'm\".)\n",
    "\n",
    "In the following step, English stopwords were imported and a function was created to remove all stopwords within each list of lyrics. When doing a form of classification, it is important to remove stopwords as there are bound to be sets of words that are common amongst any body of text (e.g. \"and\",\"the). Keeping these words makes it harder for the eventual model to differentiate between two sets of text and make the proper classification."
   ]
  },
  {
   "cell_type": "code",
   "execution_count": 500,
   "metadata": {},
   "outputs": [],
   "source": [
    "lyricdata.Lyric=[[word.lower() for word in lyr] for lyr in lyricdata.Lyric]"
   ]
  },
  {
   "cell_type": "code",
   "execution_count": 501,
   "metadata": {},
   "outputs": [
    {
     "data": {
      "text/plain": [
       "0    [yeah, damn, girl, drive, crazy, make, crazy, ...\n",
       "1    [tellin, lies, hot, that's, goes, told, em, fi...\n",
       "2    [verse, little, things, start, trouble, pressu...\n",
       "3    [spoken, word, see, difference, hit, rock, bot...\n",
       "4    [message, kim, damn, ive, trying, get, week, d...\n",
       "5    [spoken, ladies, gentlemen, name, alfred, hitc...\n",
       "6    [yeah, i'm, new, york, long, island, even, tre...\n",
       "7    [lyrics, snippet, future, girl, know, still, d...\n",
       "8    [know, girl, name, lily, past, bed, time, goes...\n",
       "9    [lyrics, snippet, get, plenty, plenty, plenty,...\n",
       "Name: Lyric, dtype: object"
      ]
     },
     "execution_count": 501,
     "metadata": {},
     "output_type": "execute_result"
    }
   ],
   "source": [
    "sw=stopwords.words('english')\n",
    "\n",
    "def removestopwords(list):\n",
    "    removed=[word for word in list if word not in sw]\n",
    "    return removed\n",
    "lyricdata.Lyric=lyricdata.Lyric.apply(removestopwords)\n",
    "\n",
    "lyricdata.Lyric.head(10)\n"
   ]
  },
  {
   "cell_type": "markdown",
   "metadata": {},
   "source": [
    "In order to get a better sense of the data, now that the words have been tokenized and stop words have been removed, the following code is used to visualize the distribution of words within each available artist's lyrics. \n",
    "From the respective charts, it can be observed that there are still some commonalities amongst top words for each artist, even after stopwords have been removed. If these pose an issue, they can be removed in later iterations of modeling in order to improve performance, but for now, “i’m” and “like” are removed. \n",
    "\n",
    "It is blatantly evident that within the rap artists (Drake, Eminem, and Post Malone), curse words are far more prevalent in their lyrics, while none are present in the pop songs. Within the pop songs, “love” seems to be a common word, taking a top 10 slot across all artists."
   ]
  },
  {
   "cell_type": "code",
   "execution_count": 502,
   "metadata": {},
   "outputs": [
    {
     "data": {
      "image/png": "[encoded data removed]",
      "text/plain": [
       "<Figure size 1080x1080 with 7 Axes>"
      ]
     },
     "metadata": {
      "needs_background": "light"
     },
     "output_type": "display_data"
    }
   ],
   "source": [
    "\n",
    "def setup_seven_subplots():\n",
    "    fig = plt.figure(figsize=(15,15))\n",
    "    fig.set_tight_layout(True)\n",
    "    gs = fig.add_gridspec(3, 6)\n",
    "    ax1 = fig.add_subplot(gs[0, :2]) \n",
    "    ax2 = fig.add_subplot(gs[0, 2:4])\n",
    "    ax3 = fig.add_subplot(gs[0, 4:6]) \n",
    "    ax4 = fig.add_subplot(gs[1, :2])\n",
    "    ax5 = fig.add_subplot(gs[1, 2:4])\n",
    "    ax6 = fig.add_subplot(gs[1, 4:6]) \n",
    "    ax7 = fig.add_subplot(gs[2, :2])\n",
    "    return fig, [ax1, ax2, ax3, ax4, ax5, ax6, ax7]\n",
    "\n",
    "fig, axes = setup_seven_subplots()\n",
    "\n",
    "artnumberdict={'Eminem':0,'Drake':1,'Ariana Grande':2,'Selena Gomez':3,'Taylor Swift':4,'Maroon 5':5,'Post Malone':6}\n",
    "\n",
    "def plot_distribution_of_column_by_category(df, axes, title=\"Word Frequency for\"):\n",
    "    artistmostcommon={}\n",
    "    for key, value in artnumberdict.items():\n",
    "        all_words=df[df[\"Artist\"] == key]['Lyric'].explode()\n",
    "        freq_dist = FreqDist(all_words)\n",
    "        top_15 = list(zip(*freq_dist.most_common(15)))\n",
    "        tokens = top_15[0]\n",
    "        counts = top_15[1]\n",
    "        ax=axes[value]\n",
    "        ax.bar(tokens, counts)\n",
    "        ax.set_title(f\"{title} {key}\")\n",
    "        ax.set_ylabel(\"Count\")\n",
    "        ax.tick_params(axis=\"x\", rotation=90)\n",
    "        plt.rcParams.update({'font.size':15})\n",
    "\n",
    "plot_distribution_of_column_by_category(lyricdata, axes)\n",
    "fig.suptitle(\"Word Frequencies for All Tokens\", fontsize=24);\n"
   ]
  },
  {
   "cell_type": "code",
   "execution_count": 503,
   "metadata": {},
   "outputs": [
    {
     "data": {
      "text/plain": [
       "0    [yeah, damn, girl, drive, crazy, make, crazy, ...\n",
       "1    [tellin, lies, hot, that's, goes, told, em, fi...\n",
       "2    [verse, little, things, start, trouble, pressu...\n",
       "3    [spoken, word, see, difference, hit, rock, bot...\n",
       "4    [message, kim, damn, ive, trying, get, week, d...\n",
       "Name: Lyric, dtype: object"
      ]
     },
     "execution_count": 503,
     "metadata": {},
     "output_type": "execute_result"
    }
   ],
   "source": [
    "sw+=list([\"i'm\",'like'])\n",
    "lyricdata.Lyric=lyricdata.Lyric.apply(removestopwords)\n",
    "\n",
    "lyricdata.Lyric.head(5)"
   ]
  },
  {
   "cell_type": "markdown",
   "metadata": {},
   "source": [
    "Doing a quick check amongst the distinct words that are present within the dataset, it seems as if removing stopwords caused the overall word count to drop to a great degree."
   ]
  },
  {
   "cell_type": "code",
   "execution_count": 504,
   "metadata": {},
   "outputs": [
    {
     "name": "stdout",
     "output_type": "stream",
     "text": [
      "16\n",
      "200\n",
      "45\n",
      "66\n",
      "47\n"
     ]
    }
   ],
   "source": [
    "print(len(set(lyricdata.Lyric[0])))\n",
    "print(len(set(lyricdata.Lyric[500])))\n",
    "print(len(set(lyricdata.Lyric[1000])))\n",
    "print(len(set(lyricdata.Lyric[1500])))\n",
    "print(len(set(lyricdata.Lyric[2000])))"
   ]
  },
  {
   "cell_type": "markdown",
   "metadata": {},
   "source": [
    "Now that the words are tokenized and prepped for modeling, a final count is done of the set of words present in each genre.  Surprisingly, the count is about even between the two genres. It was expected that Rap would have a significantly higher amount of distinct words, considering their average word count was higher overall as well."
   ]
  },
  {
   "cell_type": "code",
   "execution_count": 505,
   "metadata": {
    "scrolled": true
   },
   "outputs": [
    {
     "name": "stdout",
     "output_type": "stream",
     "text": [
      "The Rap discography has 1080 distinct words\n",
      "The Pop discography has 1026 distinct words\n"
     ]
    }
   ],
   "source": [
    "rapvocab=set()\n",
    "popvocab=set()\n",
    "\n",
    "rapset=lyricdata[lyricdata['GENRECODE']==1]\n",
    "popset=lyricdata[lyricdata['GENRECODE']==2]\n",
    "\n",
    "for lyr in rapset['Lyric']:\n",
    "    rapvocab.add(tuple(lyr))\n",
    "    \n",
    "for lyr in popset['Lyric']:\n",
    "    popvocab.add(tuple(lyr))\n",
    "\n",
    "print(\"The Rap discography has {} distinct words\".format(len(rapvocab)))\n",
    "print(\"The Pop discography has {} distinct words\".format(len(popvocab)))"
   ]
  },
  {
   "cell_type": "markdown",
   "metadata": {},
   "source": [
    "## Data Modeling"
   ]
  },
  {
   "cell_type": "markdown",
   "metadata": {},
   "source": [
    "In order to initialize modeling, the data is split into train and testing groups so that the models can be evaluated in the presence of new data."
   ]
  },
  {
   "cell_type": "code",
   "execution_count": 506,
   "metadata": {},
   "outputs": [],
   "source": [
    "X=lyricdata['Lyric']\n",
    "y=lyricdata['GENRECODE']\n",
    "\n",
    "X_train, X_test, y_train, y_test = train_test_split(X,y, test_size=.25, random_state=42)"
   ]
  },
  {
   "cell_type": "markdown",
   "metadata": {},
   "source": [
    "### Model 1: Count Vectorizer + Multinomial Naive Bayes"
   ]
  },
  {
   "cell_type": "markdown",
   "metadata": {},
   "source": [
    "In order to further prep the data, a count vectorizer is initialized. Vectorizers are necessary for this process, as it provides a way to convert text data, currently in the form of lists, into a form that a model can understand. The Count Vectorizer is a rudimentary vectorizer, which solely counts the presence of a word in any given document. The min_df is specified as 30, an arbitrary number for our baseline model. The min_df value of 30 implies that all words in the vectorizer need to be in the document base at least 30 times. Similarly, the max_df is specified as 1000, which implies that words are only considered as identifiers for the model if they appear in less than 1000 distinct documents. Words that appear too frequently across the base are not desirable, as their inclusion may decrease resulting performance."
   ]
  },
  {
   "cell_type": "code",
   "execution_count": 507,
   "metadata": {},
   "outputs": [
    {
     "data": {
      "text/html": [
       "<div>\n",
       "<style scoped>\n",
       "    .dataframe tbody tr th:only-of-type {\n",
       "        vertical-align: middle;\n",
       "    }\n",
       "\n",
       "    .dataframe tbody tr th {\n",
       "        vertical-align: top;\n",
       "    }\n",
       "\n",
       "    .dataframe thead th {\n",
       "        text-align: right;\n",
       "    }\n",
       "</style>\n",
       "<table border=\"1\" class=\"dataframe\">\n",
       "  <thead>\n",
       "    <tr style=\"text-align: right;\">\n",
       "      <th></th>\n",
       "      <th>able</th>\n",
       "      <th>across</th>\n",
       "      <th>act</th>\n",
       "      <th>actin</th>\n",
       "      <th>acting</th>\n",
       "      <th>actually</th>\n",
       "      <th>admit</th>\n",
       "      <th>afraid</th>\n",
       "      <th>age</th>\n",
       "      <th>ago</th>\n",
       "      <th>...</th>\n",
       "      <th>ya</th>\n",
       "      <th>yeah</th>\n",
       "      <th>year</th>\n",
       "      <th>years</th>\n",
       "      <th>yes</th>\n",
       "      <th>yet</th>\n",
       "      <th>yo</th>\n",
       "      <th>york</th>\n",
       "      <th>young</th>\n",
       "      <th>youre</th>\n",
       "    </tr>\n",
       "  </thead>\n",
       "  <tbody>\n",
       "    <tr>\n",
       "      <th>686</th>\n",
       "      <td>0</td>\n",
       "      <td>0</td>\n",
       "      <td>0</td>\n",
       "      <td>0</td>\n",
       "      <td>0</td>\n",
       "      <td>0</td>\n",
       "      <td>0</td>\n",
       "      <td>0</td>\n",
       "      <td>0</td>\n",
       "      <td>0</td>\n",
       "      <td>...</td>\n",
       "      <td>1</td>\n",
       "      <td>2</td>\n",
       "      <td>0</td>\n",
       "      <td>0</td>\n",
       "      <td>1</td>\n",
       "      <td>0</td>\n",
       "      <td>0</td>\n",
       "      <td>0</td>\n",
       "      <td>0</td>\n",
       "      <td>0</td>\n",
       "    </tr>\n",
       "    <tr>\n",
       "      <th>394</th>\n",
       "      <td>0</td>\n",
       "      <td>0</td>\n",
       "      <td>0</td>\n",
       "      <td>0</td>\n",
       "      <td>0</td>\n",
       "      <td>0</td>\n",
       "      <td>0</td>\n",
       "      <td>0</td>\n",
       "      <td>0</td>\n",
       "      <td>0</td>\n",
       "      <td>...</td>\n",
       "      <td>0</td>\n",
       "      <td>5</td>\n",
       "      <td>0</td>\n",
       "      <td>0</td>\n",
       "      <td>0</td>\n",
       "      <td>0</td>\n",
       "      <td>0</td>\n",
       "      <td>0</td>\n",
       "      <td>0</td>\n",
       "      <td>0</td>\n",
       "    </tr>\n",
       "    <tr>\n",
       "      <th>816</th>\n",
       "      <td>0</td>\n",
       "      <td>0</td>\n",
       "      <td>0</td>\n",
       "      <td>0</td>\n",
       "      <td>0</td>\n",
       "      <td>0</td>\n",
       "      <td>0</td>\n",
       "      <td>0</td>\n",
       "      <td>0</td>\n",
       "      <td>0</td>\n",
       "      <td>...</td>\n",
       "      <td>1</td>\n",
       "      <td>1</td>\n",
       "      <td>0</td>\n",
       "      <td>0</td>\n",
       "      <td>0</td>\n",
       "      <td>0</td>\n",
       "      <td>0</td>\n",
       "      <td>0</td>\n",
       "      <td>1</td>\n",
       "      <td>0</td>\n",
       "    </tr>\n",
       "    <tr>\n",
       "      <th>674</th>\n",
       "      <td>0</td>\n",
       "      <td>0</td>\n",
       "      <td>0</td>\n",
       "      <td>0</td>\n",
       "      <td>0</td>\n",
       "      <td>0</td>\n",
       "      <td>0</td>\n",
       "      <td>0</td>\n",
       "      <td>0</td>\n",
       "      <td>0</td>\n",
       "      <td>...</td>\n",
       "      <td>1</td>\n",
       "      <td>17</td>\n",
       "      <td>0</td>\n",
       "      <td>0</td>\n",
       "      <td>1</td>\n",
       "      <td>0</td>\n",
       "      <td>1</td>\n",
       "      <td>0</td>\n",
       "      <td>0</td>\n",
       "      <td>0</td>\n",
       "    </tr>\n",
       "    <tr>\n",
       "      <th>39</th>\n",
       "      <td>0</td>\n",
       "      <td>0</td>\n",
       "      <td>0</td>\n",
       "      <td>0</td>\n",
       "      <td>0</td>\n",
       "      <td>0</td>\n",
       "      <td>0</td>\n",
       "      <td>0</td>\n",
       "      <td>0</td>\n",
       "      <td>0</td>\n",
       "      <td>...</td>\n",
       "      <td>0</td>\n",
       "      <td>1</td>\n",
       "      <td>0</td>\n",
       "      <td>0</td>\n",
       "      <td>0</td>\n",
       "      <td>0</td>\n",
       "      <td>0</td>\n",
       "      <td>0</td>\n",
       "      <td>0</td>\n",
       "      <td>0</td>\n",
       "    </tr>\n",
       "  </tbody>\n",
       "</table>\n",
       "<p>5 rows × 1139 columns</p>\n",
       "</div>"
      ],
      "text/plain": [
       "     able  across  act  actin  acting  actually  admit  afraid  age  ago  ...  \\\n",
       "686     0       0    0      0       0         0      0       0    0    0  ...   \n",
       "394     0       0    0      0       0         0      0       0    0    0  ...   \n",
       "816     0       0    0      0       0         0      0       0    0    0  ...   \n",
       "674     0       0    0      0       0         0      0       0    0    0  ...   \n",
       "39      0       0    0      0       0         0      0       0    0    0  ...   \n",
       "\n",
       "     ya  yeah  year  years  yes  yet  yo  york  young  youre  \n",
       "686   1     2     0      0    1    0   0     0      0      0  \n",
       "394   0     5     0      0    0    0   0     0      0      0  \n",
       "816   1     1     0      0    0    0   0     0      1      0  \n",
       "674   1    17     0      0    1    0   1     0      0      0  \n",
       "39    0     1     0      0    0    0   0     0      0      0  \n",
       "\n",
       "[5 rows x 1139 columns]"
      ]
     },
     "execution_count": 507,
     "metadata": {},
     "output_type": "execute_result"
    }
   ],
   "source": [
    "cvec= CountVectorizer(min_df=30,max_df=1000)\n",
    "\n",
    "X_traindf=pd.DataFrame(X_train,columns=['Lyric'])\n",
    "X_testdf=pd.DataFrame(X_test,columns=['Lyric'])\n",
    "\n",
    "X_trainvec = cvec.fit_transform(X_traindf['Lyric'].apply(lambda x: ' '.join(x)))\n",
    "X_testvec = cvec.transform(X_testdf['Lyric'].apply(lambda x: ' '.join(x)))\n",
    "X_trainvec = pd.DataFrame.sparse.from_spmatrix(X_trainvec)\n",
    "X_trainvec.columns = sorted(cvec.vocabulary_)\n",
    "X_trainvec.set_index(y_train.index, inplace=True)\n",
    "\n",
    "X_trainvec.head()"
   ]
  },
  {
   "cell_type": "markdown",
   "metadata": {},
   "source": [
    "Below, a Multinomial Naive Bayes model is instantiated for our model to be fit on, and the plotted confusion matrix helps visualize how well the model did. The MultinomialNB model is essential for text classification, as it involves using conditional probability across the different categorizations, and is generally good for classifying on distinct features.\n",
    "\n",
    "The corresponding confusion matrix, seen below, shows how the model classifies the test/train data using the Multinomial Naive Bayes classifier through counts of true/false positives/negatives.\n",
    "\n",
    "LEGEND:\n",
    "Rap in True label, Rap in Predicted label - True Negative\n",
    "\n",
    "Rap in True label, Pop in Predicted label - False Positive\n",
    "\n",
    "Pop in True label, Pop in Predicted label - True Positive\n",
    "\n",
    "Pop in True label, Rap in Predicted label - False Negative"
   ]
  },
  {
   "cell_type": "code",
   "execution_count": 508,
   "metadata": {},
   "outputs": [
    {
     "data": {
      "text/plain": [
       "<sklearn.metrics._plot.confusion_matrix.ConfusionMatrixDisplay at 0x13619e36d00>"
      ]
     },
     "execution_count": 508,
     "metadata": {},
     "output_type": "execute_result"
    },
    {
     "data": {
      "image/png": "[encoded data removed]",
      "text/plain": [
       "<Figure size 432x288 with 2 Axes>"
      ]
     },
     "metadata": {
      "needs_background": "light"
     },
     "output_type": "display_data"
    }
   ],
   "source": [
    "baseline_model = MultinomialNB()\n",
    "\n",
    "baseline_model.fit(X_trainvec,y_train)\n",
    "y_hattest=baseline_model.predict(X_testvec)\n",
    "y_hattrain=baseline_model.predict(X_trainvec)\n",
    "plot_confusion_matrix(baseline_model, X_testvec, y_test,display_labels=['rap','pop'])"
   ]
  },
  {
   "cell_type": "markdown",
   "metadata": {},
   "source": [
    "Below, results of the first model can be seen through the classification report. The classification report outputs 3 metrics of critical importance: precision, recall, accuracy, and f1 score.\n",
    "These main metrics help understand how well the model performed in terms of classifying each song genre as a rap/pop.\n",
    "\n",
    "#### Precision:\n",
    "Precision measures how precise the predictions are. Precision is calculated by taking the number of true Rap classifications, and dividing by the number of Rap song classifications predicted by the model.\n",
    "\n",
    "#### Recall:\n",
    "Recall measures what % of the games identified as Rap were actually identified correctly. Recall is calculated by dividing the number of total true Rap classifications identified by the model, by the number of actual Rap songs.\n",
    "\n",
    "#### Accuracy:\n",
    "Accuracy evaluates all predictions within the model. Accuracy is calculated by dividing the total correct predictions from the model (both Rap/Pop) by the total records in the original dataset.\n",
    "\n",
    "#### F1 Score:\n",
    "F1 Score takes both precision and recall into account to get a cumulative score. The formula is calculated as follows: 2(precision recall)/(precision + recall). This metric is a good measure of overall model performance, as a high F1 score implies both precision and recall are both high as well.\n",
    "\n",
    "As seen below, the initial model performs relatively well on the test data, seen from the predicted values using the trained model. F1 score is relatively high for both Rap/Pop classifications, implying succesful precision and recall values as well. Looking at the overall accuracy, across all observations, our model performed exceptionally well too."
   ]
  },
  {
   "cell_type": "code",
   "execution_count": 509,
   "metadata": {},
   "outputs": [
    {
     "name": "stdout",
     "output_type": "stream",
     "text": [
      "Test Data Classification Report\n",
      "_________________________________\n",
      "              precision    recall  f1-score   support\n",
      "\n",
      "           1       0.92      0.88      0.90       273\n",
      "           2       0.88      0.92      0.90       262\n",
      "\n",
      "    accuracy                           0.90       535\n",
      "   macro avg       0.90      0.90      0.90       535\n",
      "weighted avg       0.90      0.90      0.90       535\n",
      "\n",
      "Training Data Classification Report\n",
      "_________________________________\n",
      "              precision    recall  f1-score   support\n",
      "\n",
      "           1       0.95      0.89      0.92       811\n",
      "           2       0.89      0.95      0.92       791\n",
      "\n",
      "    accuracy                           0.92      1602\n",
      "   macro avg       0.92      0.92      0.92      1602\n",
      "weighted avg       0.92      0.92      0.92      1602\n",
      "\n"
     ]
    }
   ],
   "source": [
    "reporttest1=classification_report(y_test, y_hattest)\n",
    "reporttrain1=classification_report(y_train, y_hattrain)\n",
    "\n",
    "print('Test Data Classification Report')\n",
    "print('_________________________________')\n",
    "print(reporttest1)\n",
    "print('Training Data Classification Report')\n",
    "print('_________________________________')\n",
    "print(reporttrain1)"
   ]
  },
  {
   "cell_type": "markdown",
   "metadata": {},
   "source": [
    "### Model 2: TF_IDF Vectorizer + Multinomial Naive Bayes"
   ]
  },
  {
   "cell_type": "markdown",
   "metadata": {},
   "source": [
    "For the second iteration of the model, since the Multinomial Naive Bayes classifier seems to be an ideal fit for this type of text data, the vectorizer will now be changed in order to see if model performance will improve. This time, a TF-IDF vectorizer, also known as Term Frequency-Inverse Document Frequency, will be used. This type of vectorizer is ideal for use in the case of multiple text documents, and due to the nature of the calculation, it implies rare words contain more information than common words. Term Frequency (TF) represents the presence of a word in a document as a fraction, while inverse document frequency (IDF) represents the prevalence of a word across all documents. By multiplying the two, a value for the importance each word has in the entire document base is obtained.\n",
    "\n",
    "Similarly to the Count vectorizer, the min_df and max_df parameters will be kept the same in order to compare similar setups."
   ]
  },
  {
   "cell_type": "code",
   "execution_count": 510,
   "metadata": {},
   "outputs": [
    {
     "data": {
      "text/html": [
       "<div>\n",
       "<style scoped>\n",
       "    .dataframe tbody tr th:only-of-type {\n",
       "        vertical-align: middle;\n",
       "    }\n",
       "\n",
       "    .dataframe tbody tr th {\n",
       "        vertical-align: top;\n",
       "    }\n",
       "\n",
       "    .dataframe thead th {\n",
       "        text-align: right;\n",
       "    }\n",
       "</style>\n",
       "<table border=\"1\" class=\"dataframe\">\n",
       "  <thead>\n",
       "    <tr style=\"text-align: right;\">\n",
       "      <th></th>\n",
       "      <th>able</th>\n",
       "      <th>across</th>\n",
       "      <th>act</th>\n",
       "      <th>actin</th>\n",
       "      <th>acting</th>\n",
       "      <th>actually</th>\n",
       "      <th>admit</th>\n",
       "      <th>afraid</th>\n",
       "      <th>age</th>\n",
       "      <th>ago</th>\n",
       "      <th>...</th>\n",
       "      <th>ya</th>\n",
       "      <th>yeah</th>\n",
       "      <th>year</th>\n",
       "      <th>years</th>\n",
       "      <th>yes</th>\n",
       "      <th>yet</th>\n",
       "      <th>yo</th>\n",
       "      <th>york</th>\n",
       "      <th>young</th>\n",
       "      <th>youre</th>\n",
       "    </tr>\n",
       "  </thead>\n",
       "  <tbody>\n",
       "    <tr>\n",
       "      <th>0</th>\n",
       "      <td>0.0</td>\n",
       "      <td>0.0</td>\n",
       "      <td>0.000000</td>\n",
       "      <td>0.0</td>\n",
       "      <td>0.0</td>\n",
       "      <td>0.0</td>\n",
       "      <td>0.000000</td>\n",
       "      <td>0.0</td>\n",
       "      <td>0.0</td>\n",
       "      <td>0.0</td>\n",
       "      <td>...</td>\n",
       "      <td>0.028060</td>\n",
       "      <td>0.032156</td>\n",
       "      <td>0.0</td>\n",
       "      <td>0.000000</td>\n",
       "      <td>0.035833</td>\n",
       "      <td>0.0</td>\n",
       "      <td>0.000000</td>\n",
       "      <td>0.0</td>\n",
       "      <td>0.000000</td>\n",
       "      <td>0.0</td>\n",
       "    </tr>\n",
       "    <tr>\n",
       "      <th>1</th>\n",
       "      <td>0.0</td>\n",
       "      <td>0.0</td>\n",
       "      <td>0.000000</td>\n",
       "      <td>0.0</td>\n",
       "      <td>0.0</td>\n",
       "      <td>0.0</td>\n",
       "      <td>0.000000</td>\n",
       "      <td>0.0</td>\n",
       "      <td>0.0</td>\n",
       "      <td>0.0</td>\n",
       "      <td>...</td>\n",
       "      <td>0.000000</td>\n",
       "      <td>0.083696</td>\n",
       "      <td>0.0</td>\n",
       "      <td>0.000000</td>\n",
       "      <td>0.000000</td>\n",
       "      <td>0.0</td>\n",
       "      <td>0.000000</td>\n",
       "      <td>0.0</td>\n",
       "      <td>0.000000</td>\n",
       "      <td>0.0</td>\n",
       "    </tr>\n",
       "    <tr>\n",
       "      <th>2</th>\n",
       "      <td>0.0</td>\n",
       "      <td>0.0</td>\n",
       "      <td>0.000000</td>\n",
       "      <td>0.0</td>\n",
       "      <td>0.0</td>\n",
       "      <td>0.0</td>\n",
       "      <td>0.000000</td>\n",
       "      <td>0.0</td>\n",
       "      <td>0.0</td>\n",
       "      <td>0.0</td>\n",
       "      <td>...</td>\n",
       "      <td>0.026471</td>\n",
       "      <td>0.015168</td>\n",
       "      <td>0.0</td>\n",
       "      <td>0.000000</td>\n",
       "      <td>0.000000</td>\n",
       "      <td>0.0</td>\n",
       "      <td>0.000000</td>\n",
       "      <td>0.0</td>\n",
       "      <td>0.030224</td>\n",
       "      <td>0.0</td>\n",
       "    </tr>\n",
       "    <tr>\n",
       "      <th>3</th>\n",
       "      <td>0.0</td>\n",
       "      <td>0.0</td>\n",
       "      <td>0.000000</td>\n",
       "      <td>0.0</td>\n",
       "      <td>0.0</td>\n",
       "      <td>0.0</td>\n",
       "      <td>0.000000</td>\n",
       "      <td>0.0</td>\n",
       "      <td>0.0</td>\n",
       "      <td>0.0</td>\n",
       "      <td>...</td>\n",
       "      <td>0.028275</td>\n",
       "      <td>0.275425</td>\n",
       "      <td>0.0</td>\n",
       "      <td>0.000000</td>\n",
       "      <td>0.036108</td>\n",
       "      <td>0.0</td>\n",
       "      <td>0.031493</td>\n",
       "      <td>0.0</td>\n",
       "      <td>0.000000</td>\n",
       "      <td>0.0</td>\n",
       "    </tr>\n",
       "    <tr>\n",
       "      <th>4</th>\n",
       "      <td>0.0</td>\n",
       "      <td>0.0</td>\n",
       "      <td>0.000000</td>\n",
       "      <td>0.0</td>\n",
       "      <td>0.0</td>\n",
       "      <td>0.0</td>\n",
       "      <td>0.000000</td>\n",
       "      <td>0.0</td>\n",
       "      <td>0.0</td>\n",
       "      <td>0.0</td>\n",
       "      <td>...</td>\n",
       "      <td>0.000000</td>\n",
       "      <td>0.077305</td>\n",
       "      <td>0.0</td>\n",
       "      <td>0.000000</td>\n",
       "      <td>0.000000</td>\n",
       "      <td>0.0</td>\n",
       "      <td>0.000000</td>\n",
       "      <td>0.0</td>\n",
       "      <td>0.000000</td>\n",
       "      <td>0.0</td>\n",
       "    </tr>\n",
       "    <tr>\n",
       "      <th>...</th>\n",
       "      <td>...</td>\n",
       "      <td>...</td>\n",
       "      <td>...</td>\n",
       "      <td>...</td>\n",
       "      <td>...</td>\n",
       "      <td>...</td>\n",
       "      <td>...</td>\n",
       "      <td>...</td>\n",
       "      <td>...</td>\n",
       "      <td>...</td>\n",
       "      <td>...</td>\n",
       "      <td>...</td>\n",
       "      <td>...</td>\n",
       "      <td>...</td>\n",
       "      <td>...</td>\n",
       "      <td>...</td>\n",
       "      <td>...</td>\n",
       "      <td>...</td>\n",
       "      <td>...</td>\n",
       "      <td>...</td>\n",
       "      <td>...</td>\n",
       "    </tr>\n",
       "    <tr>\n",
       "      <th>1597</th>\n",
       "      <td>0.0</td>\n",
       "      <td>0.0</td>\n",
       "      <td>0.000000</td>\n",
       "      <td>0.0</td>\n",
       "      <td>0.0</td>\n",
       "      <td>0.0</td>\n",
       "      <td>0.000000</td>\n",
       "      <td>0.0</td>\n",
       "      <td>0.0</td>\n",
       "      <td>0.0</td>\n",
       "      <td>...</td>\n",
       "      <td>0.000000</td>\n",
       "      <td>0.000000</td>\n",
       "      <td>0.0</td>\n",
       "      <td>0.050534</td>\n",
       "      <td>0.000000</td>\n",
       "      <td>0.0</td>\n",
       "      <td>0.000000</td>\n",
       "      <td>0.0</td>\n",
       "      <td>0.000000</td>\n",
       "      <td>0.0</td>\n",
       "    </tr>\n",
       "    <tr>\n",
       "      <th>1598</th>\n",
       "      <td>0.0</td>\n",
       "      <td>0.0</td>\n",
       "      <td>0.000000</td>\n",
       "      <td>0.0</td>\n",
       "      <td>0.0</td>\n",
       "      <td>0.0</td>\n",
       "      <td>0.000000</td>\n",
       "      <td>0.0</td>\n",
       "      <td>0.0</td>\n",
       "      <td>0.0</td>\n",
       "      <td>...</td>\n",
       "      <td>0.000000</td>\n",
       "      <td>0.087886</td>\n",
       "      <td>0.0</td>\n",
       "      <td>0.000000</td>\n",
       "      <td>0.000000</td>\n",
       "      <td>0.0</td>\n",
       "      <td>0.000000</td>\n",
       "      <td>0.0</td>\n",
       "      <td>0.000000</td>\n",
       "      <td>0.0</td>\n",
       "    </tr>\n",
       "    <tr>\n",
       "      <th>1599</th>\n",
       "      <td>0.0</td>\n",
       "      <td>0.0</td>\n",
       "      <td>0.000000</td>\n",
       "      <td>0.0</td>\n",
       "      <td>0.0</td>\n",
       "      <td>0.0</td>\n",
       "      <td>0.000000</td>\n",
       "      <td>0.0</td>\n",
       "      <td>0.0</td>\n",
       "      <td>0.0</td>\n",
       "      <td>...</td>\n",
       "      <td>0.000000</td>\n",
       "      <td>0.000000</td>\n",
       "      <td>0.0</td>\n",
       "      <td>0.000000</td>\n",
       "      <td>0.000000</td>\n",
       "      <td>0.0</td>\n",
       "      <td>0.000000</td>\n",
       "      <td>0.0</td>\n",
       "      <td>0.000000</td>\n",
       "      <td>0.0</td>\n",
       "    </tr>\n",
       "    <tr>\n",
       "      <th>1600</th>\n",
       "      <td>0.0</td>\n",
       "      <td>0.0</td>\n",
       "      <td>0.000000</td>\n",
       "      <td>0.0</td>\n",
       "      <td>0.0</td>\n",
       "      <td>0.0</td>\n",
       "      <td>0.000000</td>\n",
       "      <td>0.0</td>\n",
       "      <td>0.0</td>\n",
       "      <td>0.0</td>\n",
       "      <td>...</td>\n",
       "      <td>0.000000</td>\n",
       "      <td>0.117610</td>\n",
       "      <td>0.0</td>\n",
       "      <td>0.000000</td>\n",
       "      <td>0.000000</td>\n",
       "      <td>0.0</td>\n",
       "      <td>0.000000</td>\n",
       "      <td>0.0</td>\n",
       "      <td>0.000000</td>\n",
       "      <td>0.0</td>\n",
       "    </tr>\n",
       "    <tr>\n",
       "      <th>1601</th>\n",
       "      <td>0.0</td>\n",
       "      <td>0.0</td>\n",
       "      <td>0.033986</td>\n",
       "      <td>0.0</td>\n",
       "      <td>0.0</td>\n",
       "      <td>0.0</td>\n",
       "      <td>0.020286</td>\n",
       "      <td>0.0</td>\n",
       "      <td>0.0</td>\n",
       "      <td>0.0</td>\n",
       "      <td>...</td>\n",
       "      <td>0.000000</td>\n",
       "      <td>0.022315</td>\n",
       "      <td>0.0</td>\n",
       "      <td>0.000000</td>\n",
       "      <td>0.132623</td>\n",
       "      <td>0.0</td>\n",
       "      <td>0.000000</td>\n",
       "      <td>0.0</td>\n",
       "      <td>0.000000</td>\n",
       "      <td>0.0</td>\n",
       "    </tr>\n",
       "  </tbody>\n",
       "</table>\n",
       "<p>1602 rows × 1139 columns</p>\n",
       "</div>"
      ],
      "text/plain": [
       "      able  across       act  actin  acting  actually     admit  afraid  age  \\\n",
       "0      0.0     0.0  0.000000    0.0     0.0       0.0  0.000000     0.0  0.0   \n",
       "1      0.0     0.0  0.000000    0.0     0.0       0.0  0.000000     0.0  0.0   \n",
       "2      0.0     0.0  0.000000    0.0     0.0       0.0  0.000000     0.0  0.0   \n",
       "3      0.0     0.0  0.000000    0.0     0.0       0.0  0.000000     0.0  0.0   \n",
       "4      0.0     0.0  0.000000    0.0     0.0       0.0  0.000000     0.0  0.0   \n",
       "...    ...     ...       ...    ...     ...       ...       ...     ...  ...   \n",
       "1597   0.0     0.0  0.000000    0.0     0.0       0.0  0.000000     0.0  0.0   \n",
       "1598   0.0     0.0  0.000000    0.0     0.0       0.0  0.000000     0.0  0.0   \n",
       "1599   0.0     0.0  0.000000    0.0     0.0       0.0  0.000000     0.0  0.0   \n",
       "1600   0.0     0.0  0.000000    0.0     0.0       0.0  0.000000     0.0  0.0   \n",
       "1601   0.0     0.0  0.033986    0.0     0.0       0.0  0.020286     0.0  0.0   \n",
       "\n",
       "      ago  ...        ya      yeah  year     years       yes  yet        yo  \\\n",
       "0     0.0  ...  0.028060  0.032156   0.0  0.000000  0.035833  0.0  0.000000   \n",
       "1     0.0  ...  0.000000  0.083696   0.0  0.000000  0.000000  0.0  0.000000   \n",
       "2     0.0  ...  0.026471  0.015168   0.0  0.000000  0.000000  0.0  0.000000   \n",
       "3     0.0  ...  0.028275  0.275425   0.0  0.000000  0.036108  0.0  0.031493   \n",
       "4     0.0  ...  0.000000  0.077305   0.0  0.000000  0.000000  0.0  0.000000   \n",
       "...   ...  ...       ...       ...   ...       ...       ...  ...       ...   \n",
       "1597  0.0  ...  0.000000  0.000000   0.0  0.050534  0.000000  0.0  0.000000   \n",
       "1598  0.0  ...  0.000000  0.087886   0.0  0.000000  0.000000  0.0  0.000000   \n",
       "1599  0.0  ...  0.000000  0.000000   0.0  0.000000  0.000000  0.0  0.000000   \n",
       "1600  0.0  ...  0.000000  0.117610   0.0  0.000000  0.000000  0.0  0.000000   \n",
       "1601  0.0  ...  0.000000  0.022315   0.0  0.000000  0.132623  0.0  0.000000   \n",
       "\n",
       "      york     young  youre  \n",
       "0      0.0  0.000000    0.0  \n",
       "1      0.0  0.000000    0.0  \n",
       "2      0.0  0.030224    0.0  \n",
       "3      0.0  0.000000    0.0  \n",
       "4      0.0  0.000000    0.0  \n",
       "...    ...       ...    ...  \n",
       "1597   0.0  0.000000    0.0  \n",
       "1598   0.0  0.000000    0.0  \n",
       "1599   0.0  0.000000    0.0  \n",
       "1600   0.0  0.000000    0.0  \n",
       "1601   0.0  0.000000    0.0  \n",
       "\n",
       "[1602 rows x 1139 columns]"
      ]
     },
     "execution_count": 510,
     "metadata": {},
     "output_type": "execute_result"
    }
   ],
   "source": [
    "tfidf=TfidfVectorizer(min_df=30,max_df=1000)\n",
    "\n",
    "X_trainvec2=tfidf.fit_transform(X_traindf[\"Lyric\"].apply(lambda x: ' '.join(x)))\n",
    "X_testvec2=tfidf.transform(X_testdf[\"Lyric\"].apply(lambda x: ' '.join(x)))\n",
    "\n",
    "pd.DataFrame.sparse.from_spmatrix(X_trainvec2, columns=tfidf.get_feature_names())"
   ]
  },
  {
   "cell_type": "markdown",
   "metadata": {},
   "source": [
    "As seen through the slightly improved recall scores within both the test data and training data, we can see evident model improvement with the use of the TF-IDF vectorizer. "
   ]
  },
  {
   "cell_type": "code",
   "execution_count": 511,
   "metadata": {},
   "outputs": [
    {
     "data": {
      "text/plain": [
       "<sklearn.metrics._plot.confusion_matrix.ConfusionMatrixDisplay at 0x13628eb8ee0>"
      ]
     },
     "execution_count": 511,
     "metadata": {},
     "output_type": "execute_result"
    },
    {
     "data": {
      "image/png": "[encoded data removed]",
      "text/plain": [
       "<Figure size 432x288 with 2 Axes>"
      ]
     },
     "metadata": {
      "needs_background": "light"
     },
     "output_type": "display_data"
    }
   ],
   "source": [
    "baseline_model=MultinomialNB()\n",
    "baseline_model.fit(X_trainvec2,y_train)\n",
    "y_hattest2=baseline_model.predict(X_testvec2)\n",
    "y_hattrain2=baseline_model.predict(X_trainvec2)\n",
    "\n",
    "plot_confusion_matrix(baseline_model, X_testvec2,y_test,display_labels=['rap','pop'])"
   ]
  },
  {
   "cell_type": "code",
   "execution_count": 512,
   "metadata": {},
   "outputs": [
    {
     "name": "stdout",
     "output_type": "stream",
     "text": [
      "Test Data Classification Report\n",
      "_________________________________\n",
      "              precision    recall  f1-score   support\n",
      "\n",
      "           1       0.94      0.85      0.89       273\n",
      "           2       0.86      0.95      0.90       262\n",
      "\n",
      "    accuracy                           0.90       535\n",
      "   macro avg       0.90      0.90      0.90       535\n",
      "weighted avg       0.90      0.90      0.90       535\n",
      "\n",
      "Training Data Classification Report\n",
      "_________________________________\n",
      "              precision    recall  f1-score   support\n",
      "\n",
      "           1       0.96      0.87      0.92       811\n",
      "           2       0.88      0.97      0.92       791\n",
      "\n",
      "    accuracy                           0.92      1602\n",
      "   macro avg       0.92      0.92      0.92      1602\n",
      "weighted avg       0.92      0.92      0.92      1602\n",
      "\n"
     ]
    }
   ],
   "source": [
    "reporttest2=classification_report(y_test, y_hattest2)\n",
    "reporttrain2=classification_report(y_train, y_hattrain2)\n",
    "\n",
    "print('Test Data Classification Report')\n",
    "print('_________________________________')\n",
    "print(reporttest2)\n",
    "print('Training Data Classification Report')\n",
    "print('_________________________________')\n",
    "print(reporttrain2)"
   ]
  },
  {
   "cell_type": "markdown",
   "metadata": {},
   "source": [
    "### Model 3: TF-IDF Vectorizer + Random Forest Classifier"
   ]
  },
  {
   "cell_type": "markdown",
   "metadata": {},
   "source": [
    "Keeping the TF-IDF vectorizer, as it has been identified to have a clear improvement over the Count vectorizer, another classifier is tried for the sake of curiosity, the Random Forest Classifier. This model works by using several decision trees in order to make a classifying decision. In prior projects, the Random Forest was seen to have relatively good performance on determining game outcomes for the NBA."
   ]
  },
  {
   "cell_type": "code",
   "execution_count": 513,
   "metadata": {},
   "outputs": [
    {
     "data": {
      "text/plain": [
       "<sklearn.metrics._plot.confusion_matrix.ConfusionMatrixDisplay at 0x1361a00b8b0>"
      ]
     },
     "execution_count": 513,
     "metadata": {},
     "output_type": "execute_result"
    },
    {
     "data": {
      "image/png": "[encoded data removed]",
      "text/plain": [
       "<Figure size 432x288 with 2 Axes>"
      ]
     },
     "metadata": {
      "needs_background": "light"
     },
     "output_type": "display_data"
    }
   ],
   "source": [
    "model2 = RandomForestClassifier(n_estimators=20, max_features=5, max_depth=5)\n",
    "model2.fit(X_trainvec2, y_train)\n",
    "y_hattest3 = model2.predict(X_testvec2)\n",
    "y_hattrain3 = model2.predict(X_trainvec2)\n",
    "\n",
    "plot_confusion_matrix(model2, X_testvec,y_test, display_labels=['rap','pop'])"
   ]
  },
  {
   "cell_type": "markdown",
   "metadata": {},
   "source": [
    "As seen in the following classification report, recall of Rap songs went down to a great degree, showing that the application of this new model tended to favor the Pop song classifications, across both the test and training data. The Random Forest Classifier will not be considered for the final model iteration, and the MultinomialNB model will be continuously improved upon."
   ]
  },
  {
   "cell_type": "code",
   "execution_count": 514,
   "metadata": {},
   "outputs": [
    {
     "name": "stdout",
     "output_type": "stream",
     "text": [
      "Test Data Classification Report\n",
      "_________________________________\n",
      "              precision    recall  f1-score   support\n",
      "\n",
      "           1       0.99      0.75      0.85       273\n",
      "           2       0.79      0.99      0.88       262\n",
      "\n",
      "    accuracy                           0.87       535\n",
      "   macro avg       0.89      0.87      0.86       535\n",
      "weighted avg       0.89      0.87      0.86       535\n",
      "\n",
      "Training Data Classification Report\n",
      "_________________________________\n",
      "              precision    recall  f1-score   support\n",
      "\n",
      "           1       0.98      0.75      0.85       811\n",
      "           2       0.79      0.98      0.88       791\n",
      "\n",
      "    accuracy                           0.86      1602\n",
      "   macro avg       0.88      0.86      0.86      1602\n",
      "weighted avg       0.88      0.86      0.86      1602\n",
      "\n"
     ]
    }
   ],
   "source": [
    "reporttest3=classification_report(y_test, y_hattest3)\n",
    "reporttrain3=classification_report(y_train, y_hattrain3)\n",
    "\n",
    "print('Test Data Classification Report')\n",
    "print('_________________________________')\n",
    "print(reporttest3)\n",
    "print('Training Data Classification Report')\n",
    "print('_________________________________')\n",
    "print(reporttrain3)"
   ]
  },
  {
   "cell_type": "markdown",
   "metadata": {},
   "source": [
    "### Model 4: Lemmatizing and Removing Additional Stopwords - TF-IDF and Multinomial Bayes"
   ]
  },
  {
   "cell_type": "markdown",
   "metadata": {},
   "source": [
    "As seen in prior word count distributions across the artists, it was observed that some words like “get” and “got” were considered as distinct words although semantically, they have the same meaning. In an effort to improve prior model performance, words will be lemmatized in order to consolidate based on their root words.  Below, the part of speech is tagged to each token word, and the root words of each are found. Additionally, more common words amongst the genres are included in order to decrease similarity amongst the genre sets. Word frequencies are revisualized, each genre/artist looking more unique."
   ]
  },
  {
   "cell_type": "code",
   "execution_count": 515,
   "metadata": {},
   "outputs": [],
   "source": [
    " def get_wordnet_pos(treebank_tag):\n",
    "    '''\n",
    "    Translate nltk POS to wordnet tags\n",
    "    '''\n",
    "    if treebank_tag.startswith('J'):\n",
    "        return wordnet.ADJ\n",
    "    elif treebank_tag.startswith('V'):\n",
    "        return wordnet.VERB\n",
    "    elif treebank_tag.startswith('N'):\n",
    "        return wordnet.NOUN\n",
    "    elif treebank_tag.startswith('R'):\n",
    "        return wordnet.ADV\n",
    "    else:\n",
    "        return wordnet.NOUN\n",
    "    \n",
    "def doc_lemmatizer(doc):\n",
    "    doc=pos_tag(doc)\n",
    "    doc=[(word[0], get_wordnet_pos(word[1])) for word in doc]\n",
    "    lemmatizer=WordNetLemmatizer()\n",
    "    doc=[lemmatizer.lemmatize(word[0], word[1]) for word in doc]\n",
    "    return doc\n",
    "    \n",
    "\n",
    "lyricdata.Lyric=[doc_lemmatizer(lyric) for lyric in lyricdata.Lyric]"
   ]
  },
  {
   "cell_type": "code",
   "execution_count": 516,
   "metadata": {
    "scrolled": true
   },
   "outputs": [],
   "source": [
    "sw+=list([\"know\",\"yeah\"])\n",
    "\n",
    "lyricdata.Lyric=lyricdata.Lyric.apply(removestopwords)"
   ]
  },
  {
   "cell_type": "code",
   "execution_count": 517,
   "metadata": {},
   "outputs": [
    {
     "data": {
      "image/png": "[encoded data removed]",
      "text/plain": [
       "<Figure size 1080x1080 with 7 Axes>"
      ]
     },
     "metadata": {
      "needs_background": "light"
     },
     "output_type": "display_data"
    }
   ],
   "source": [
    "fig, axes3 = setup_seven_subplots()\n",
    "\n",
    "plot_distribution_of_column_by_category(lyricdata, axes3)\n",
    "fig.suptitle(\"Word Frequencies for All Tokens\", fontsize=24);"
   ]
  },
  {
   "cell_type": "code",
   "execution_count": 518,
   "metadata": {},
   "outputs": [
    {
     "data": {
      "text/html": [
       "<div>\n",
       "<style scoped>\n",
       "    .dataframe tbody tr th:only-of-type {\n",
       "        vertical-align: middle;\n",
       "    }\n",
       "\n",
       "    .dataframe tbody tr th {\n",
       "        vertical-align: top;\n",
       "    }\n",
       "\n",
       "    .dataframe thead th {\n",
       "        text-align: right;\n",
       "    }\n",
       "</style>\n",
       "<table border=\"1\" class=\"dataframe\">\n",
       "  <thead>\n",
       "    <tr style=\"text-align: right;\">\n",
       "      <th></th>\n",
       "      <th>able</th>\n",
       "      <th>accept</th>\n",
       "      <th>across</th>\n",
       "      <th>act</th>\n",
       "      <th>actin</th>\n",
       "      <th>action</th>\n",
       "      <th>actually</th>\n",
       "      <th>add</th>\n",
       "      <th>addict</th>\n",
       "      <th>admit</th>\n",
       "      <th>...</th>\n",
       "      <th>ya</th>\n",
       "      <th>year</th>\n",
       "      <th>yell</th>\n",
       "      <th>yes</th>\n",
       "      <th>yet</th>\n",
       "      <th>yo</th>\n",
       "      <th>york</th>\n",
       "      <th>young</th>\n",
       "      <th>youre</th>\n",
       "      <th>zone</th>\n",
       "    </tr>\n",
       "  </thead>\n",
       "  <tbody>\n",
       "    <tr>\n",
       "      <th>0</th>\n",
       "      <td>0.0</td>\n",
       "      <td>0.0</td>\n",
       "      <td>0.0</td>\n",
       "      <td>0.000000</td>\n",
       "      <td>0.0</td>\n",
       "      <td>0.00000</td>\n",
       "      <td>0.0</td>\n",
       "      <td>0.0</td>\n",
       "      <td>0.0</td>\n",
       "      <td>0.000000</td>\n",
       "      <td>...</td>\n",
       "      <td>0.031608</td>\n",
       "      <td>0.000000</td>\n",
       "      <td>0.0</td>\n",
       "      <td>0.040364</td>\n",
       "      <td>0.0</td>\n",
       "      <td>0.000000</td>\n",
       "      <td>0.0</td>\n",
       "      <td>0.000000</td>\n",
       "      <td>0.0</td>\n",
       "      <td>0.0</td>\n",
       "    </tr>\n",
       "    <tr>\n",
       "      <th>1</th>\n",
       "      <td>0.0</td>\n",
       "      <td>0.0</td>\n",
       "      <td>0.0</td>\n",
       "      <td>0.000000</td>\n",
       "      <td>0.0</td>\n",
       "      <td>0.00000</td>\n",
       "      <td>0.0</td>\n",
       "      <td>0.0</td>\n",
       "      <td>0.0</td>\n",
       "      <td>0.000000</td>\n",
       "      <td>...</td>\n",
       "      <td>0.000000</td>\n",
       "      <td>0.000000</td>\n",
       "      <td>0.0</td>\n",
       "      <td>0.000000</td>\n",
       "      <td>0.0</td>\n",
       "      <td>0.000000</td>\n",
       "      <td>0.0</td>\n",
       "      <td>0.000000</td>\n",
       "      <td>0.0</td>\n",
       "      <td>0.0</td>\n",
       "    </tr>\n",
       "    <tr>\n",
       "      <th>2</th>\n",
       "      <td>0.0</td>\n",
       "      <td>0.0</td>\n",
       "      <td>0.0</td>\n",
       "      <td>0.000000</td>\n",
       "      <td>0.0</td>\n",
       "      <td>0.00000</td>\n",
       "      <td>0.0</td>\n",
       "      <td>0.0</td>\n",
       "      <td>0.0</td>\n",
       "      <td>0.000000</td>\n",
       "      <td>...</td>\n",
       "      <td>0.026035</td>\n",
       "      <td>0.000000</td>\n",
       "      <td>0.0</td>\n",
       "      <td>0.000000</td>\n",
       "      <td>0.0</td>\n",
       "      <td>0.000000</td>\n",
       "      <td>0.0</td>\n",
       "      <td>0.029407</td>\n",
       "      <td>0.0</td>\n",
       "      <td>0.0</td>\n",
       "    </tr>\n",
       "    <tr>\n",
       "      <th>3</th>\n",
       "      <td>0.0</td>\n",
       "      <td>0.0</td>\n",
       "      <td>0.0</td>\n",
       "      <td>0.000000</td>\n",
       "      <td>0.0</td>\n",
       "      <td>0.00000</td>\n",
       "      <td>0.0</td>\n",
       "      <td>0.0</td>\n",
       "      <td>0.0</td>\n",
       "      <td>0.000000</td>\n",
       "      <td>...</td>\n",
       "      <td>0.030494</td>\n",
       "      <td>0.000000</td>\n",
       "      <td>0.0</td>\n",
       "      <td>0.038941</td>\n",
       "      <td>0.0</td>\n",
       "      <td>0.033964</td>\n",
       "      <td>0.0</td>\n",
       "      <td>0.000000</td>\n",
       "      <td>0.0</td>\n",
       "      <td>0.0</td>\n",
       "    </tr>\n",
       "    <tr>\n",
       "      <th>4</th>\n",
       "      <td>0.0</td>\n",
       "      <td>0.0</td>\n",
       "      <td>0.0</td>\n",
       "      <td>0.000000</td>\n",
       "      <td>0.0</td>\n",
       "      <td>0.21522</td>\n",
       "      <td>0.0</td>\n",
       "      <td>0.0</td>\n",
       "      <td>0.0</td>\n",
       "      <td>0.000000</td>\n",
       "      <td>...</td>\n",
       "      <td>0.000000</td>\n",
       "      <td>0.000000</td>\n",
       "      <td>0.0</td>\n",
       "      <td>0.000000</td>\n",
       "      <td>0.0</td>\n",
       "      <td>0.000000</td>\n",
       "      <td>0.0</td>\n",
       "      <td>0.000000</td>\n",
       "      <td>0.0</td>\n",
       "      <td>0.0</td>\n",
       "    </tr>\n",
       "    <tr>\n",
       "      <th>...</th>\n",
       "      <td>...</td>\n",
       "      <td>...</td>\n",
       "      <td>...</td>\n",
       "      <td>...</td>\n",
       "      <td>...</td>\n",
       "      <td>...</td>\n",
       "      <td>...</td>\n",
       "      <td>...</td>\n",
       "      <td>...</td>\n",
       "      <td>...</td>\n",
       "      <td>...</td>\n",
       "      <td>...</td>\n",
       "      <td>...</td>\n",
       "      <td>...</td>\n",
       "      <td>...</td>\n",
       "      <td>...</td>\n",
       "      <td>...</td>\n",
       "      <td>...</td>\n",
       "      <td>...</td>\n",
       "      <td>...</td>\n",
       "      <td>...</td>\n",
       "    </tr>\n",
       "    <tr>\n",
       "      <th>1597</th>\n",
       "      <td>0.0</td>\n",
       "      <td>0.0</td>\n",
       "      <td>0.0</td>\n",
       "      <td>0.000000</td>\n",
       "      <td>0.0</td>\n",
       "      <td>0.00000</td>\n",
       "      <td>0.0</td>\n",
       "      <td>0.0</td>\n",
       "      <td>0.0</td>\n",
       "      <td>0.000000</td>\n",
       "      <td>...</td>\n",
       "      <td>0.000000</td>\n",
       "      <td>0.045135</td>\n",
       "      <td>0.0</td>\n",
       "      <td>0.000000</td>\n",
       "      <td>0.0</td>\n",
       "      <td>0.000000</td>\n",
       "      <td>0.0</td>\n",
       "      <td>0.000000</td>\n",
       "      <td>0.0</td>\n",
       "      <td>0.0</td>\n",
       "    </tr>\n",
       "    <tr>\n",
       "      <th>1598</th>\n",
       "      <td>0.0</td>\n",
       "      <td>0.0</td>\n",
       "      <td>0.0</td>\n",
       "      <td>0.000000</td>\n",
       "      <td>0.0</td>\n",
       "      <td>0.00000</td>\n",
       "      <td>0.0</td>\n",
       "      <td>0.0</td>\n",
       "      <td>0.0</td>\n",
       "      <td>0.000000</td>\n",
       "      <td>...</td>\n",
       "      <td>0.000000</td>\n",
       "      <td>0.000000</td>\n",
       "      <td>0.0</td>\n",
       "      <td>0.000000</td>\n",
       "      <td>0.0</td>\n",
       "      <td>0.000000</td>\n",
       "      <td>0.0</td>\n",
       "      <td>0.000000</td>\n",
       "      <td>0.0</td>\n",
       "      <td>0.0</td>\n",
       "    </tr>\n",
       "    <tr>\n",
       "      <th>1599</th>\n",
       "      <td>0.0</td>\n",
       "      <td>0.0</td>\n",
       "      <td>0.0</td>\n",
       "      <td>0.000000</td>\n",
       "      <td>0.0</td>\n",
       "      <td>0.00000</td>\n",
       "      <td>0.0</td>\n",
       "      <td>0.0</td>\n",
       "      <td>0.0</td>\n",
       "      <td>0.000000</td>\n",
       "      <td>...</td>\n",
       "      <td>0.000000</td>\n",
       "      <td>0.000000</td>\n",
       "      <td>0.0</td>\n",
       "      <td>0.000000</td>\n",
       "      <td>0.0</td>\n",
       "      <td>0.000000</td>\n",
       "      <td>0.0</td>\n",
       "      <td>0.000000</td>\n",
       "      <td>0.0</td>\n",
       "      <td>0.0</td>\n",
       "    </tr>\n",
       "    <tr>\n",
       "      <th>1600</th>\n",
       "      <td>0.0</td>\n",
       "      <td>0.0</td>\n",
       "      <td>0.0</td>\n",
       "      <td>0.000000</td>\n",
       "      <td>0.0</td>\n",
       "      <td>0.00000</td>\n",
       "      <td>0.0</td>\n",
       "      <td>0.0</td>\n",
       "      <td>0.0</td>\n",
       "      <td>0.000000</td>\n",
       "      <td>...</td>\n",
       "      <td>0.000000</td>\n",
       "      <td>0.000000</td>\n",
       "      <td>0.0</td>\n",
       "      <td>0.000000</td>\n",
       "      <td>0.0</td>\n",
       "      <td>0.000000</td>\n",
       "      <td>0.0</td>\n",
       "      <td>0.000000</td>\n",
       "      <td>0.0</td>\n",
       "      <td>0.0</td>\n",
       "    </tr>\n",
       "    <tr>\n",
       "      <th>1601</th>\n",
       "      <td>0.0</td>\n",
       "      <td>0.0</td>\n",
       "      <td>0.0</td>\n",
       "      <td>0.032761</td>\n",
       "      <td>0.0</td>\n",
       "      <td>0.00000</td>\n",
       "      <td>0.0</td>\n",
       "      <td>0.0</td>\n",
       "      <td>0.0</td>\n",
       "      <td>0.020529</td>\n",
       "      <td>...</td>\n",
       "      <td>0.000000</td>\n",
       "      <td>0.000000</td>\n",
       "      <td>0.0</td>\n",
       "      <td>0.137092</td>\n",
       "      <td>0.0</td>\n",
       "      <td>0.000000</td>\n",
       "      <td>0.0</td>\n",
       "      <td>0.000000</td>\n",
       "      <td>0.0</td>\n",
       "      <td>0.0</td>\n",
       "    </tr>\n",
       "  </tbody>\n",
       "</table>\n",
       "<p>1602 rows × 1051 columns</p>\n",
       "</div>"
      ],
      "text/plain": [
       "      able  accept  across       act  actin   action  actually  add  addict  \\\n",
       "0      0.0     0.0     0.0  0.000000    0.0  0.00000       0.0  0.0     0.0   \n",
       "1      0.0     0.0     0.0  0.000000    0.0  0.00000       0.0  0.0     0.0   \n",
       "2      0.0     0.0     0.0  0.000000    0.0  0.00000       0.0  0.0     0.0   \n",
       "3      0.0     0.0     0.0  0.000000    0.0  0.00000       0.0  0.0     0.0   \n",
       "4      0.0     0.0     0.0  0.000000    0.0  0.21522       0.0  0.0     0.0   \n",
       "...    ...     ...     ...       ...    ...      ...       ...  ...     ...   \n",
       "1597   0.0     0.0     0.0  0.000000    0.0  0.00000       0.0  0.0     0.0   \n",
       "1598   0.0     0.0     0.0  0.000000    0.0  0.00000       0.0  0.0     0.0   \n",
       "1599   0.0     0.0     0.0  0.000000    0.0  0.00000       0.0  0.0     0.0   \n",
       "1600   0.0     0.0     0.0  0.000000    0.0  0.00000       0.0  0.0     0.0   \n",
       "1601   0.0     0.0     0.0  0.032761    0.0  0.00000       0.0  0.0     0.0   \n",
       "\n",
       "         admit  ...        ya      year  yell       yes  yet        yo  york  \\\n",
       "0     0.000000  ...  0.031608  0.000000   0.0  0.040364  0.0  0.000000   0.0   \n",
       "1     0.000000  ...  0.000000  0.000000   0.0  0.000000  0.0  0.000000   0.0   \n",
       "2     0.000000  ...  0.026035  0.000000   0.0  0.000000  0.0  0.000000   0.0   \n",
       "3     0.000000  ...  0.030494  0.000000   0.0  0.038941  0.0  0.033964   0.0   \n",
       "4     0.000000  ...  0.000000  0.000000   0.0  0.000000  0.0  0.000000   0.0   \n",
       "...        ...  ...       ...       ...   ...       ...  ...       ...   ...   \n",
       "1597  0.000000  ...  0.000000  0.045135   0.0  0.000000  0.0  0.000000   0.0   \n",
       "1598  0.000000  ...  0.000000  0.000000   0.0  0.000000  0.0  0.000000   0.0   \n",
       "1599  0.000000  ...  0.000000  0.000000   0.0  0.000000  0.0  0.000000   0.0   \n",
       "1600  0.000000  ...  0.000000  0.000000   0.0  0.000000  0.0  0.000000   0.0   \n",
       "1601  0.020529  ...  0.000000  0.000000   0.0  0.137092  0.0  0.000000   0.0   \n",
       "\n",
       "         young  youre  zone  \n",
       "0     0.000000    0.0   0.0  \n",
       "1     0.000000    0.0   0.0  \n",
       "2     0.029407    0.0   0.0  \n",
       "3     0.000000    0.0   0.0  \n",
       "4     0.000000    0.0   0.0  \n",
       "...        ...    ...   ...  \n",
       "1597  0.000000    0.0   0.0  \n",
       "1598  0.000000    0.0   0.0  \n",
       "1599  0.000000    0.0   0.0  \n",
       "1600  0.000000    0.0   0.0  \n",
       "1601  0.000000    0.0   0.0  \n",
       "\n",
       "[1602 rows x 1051 columns]"
      ]
     },
     "execution_count": 518,
     "metadata": {},
     "output_type": "execute_result"
    }
   ],
   "source": [
    "X4=lyricdata['Lyric']\n",
    "y4=lyricdata['GENRECODE']\n",
    "\n",
    "X_train4, X_test4, y_train4, y_test4 = train_test_split(X4,y4, test_size=.25, random_state=42)\n",
    "\n",
    "X_traindf4=pd.DataFrame(X_train4,columns=['Lyric'])\n",
    "X_testdf4=pd.DataFrame(X_test4,columns=['Lyric'])\n",
    "\n",
    "tfidf=TfidfVectorizer(min_df=30,max_df=1000)\n",
    "\n",
    "X_trainvec4=tfidf.fit_transform(X_traindf4[\"Lyric\"].apply(lambda x: ' '.join(x)))\n",
    "X_testvec4=tfidf.transform(X_testdf4[\"Lyric\"].apply(lambda x: ' '.join(x)))\n",
    "pd.DataFrame.sparse.from_spmatrix(X_trainvec4, columns=tfidf.get_feature_names())"
   ]
  },
  {
   "cell_type": "markdown",
   "metadata": {},
   "source": [
    "Model performance decreased slightly in terms of recall, possibly due to the recategorizing of words due to lemmatization. Overall word count dropped ~100 from consolidation. Similar to the Random Forest model, slight skewing towards Pop classification is observed. Consolidating \"get\" and \"got\" may have decreased performance, as those words are individually clear identifiers of Rap songs, rather than Pop songs.\n",
    "There is a slight preference for this model, even though it decreased performance, as now all root words are properly classified/identified. "
   ]
  },
  {
   "cell_type": "code",
   "execution_count": 519,
   "metadata": {},
   "outputs": [
    {
     "data": {
      "text/plain": [
       "<sklearn.metrics._plot.confusion_matrix.ConfusionMatrixDisplay at 0x1361fe3b820>"
      ]
     },
     "execution_count": 519,
     "metadata": {},
     "output_type": "execute_result"
    },
    {
     "data": {
      "image/png": "[encoded data removed]",
      "text/plain": [
       "<Figure size 432x288 with 2 Axes>"
      ]
     },
     "metadata": {
      "needs_background": "light"
     },
     "output_type": "display_data"
    }
   ],
   "source": [
    "baseline_model.fit(X_trainvec4, y_train4)\n",
    "y_hattest4 = baseline_model.predict(X_testvec4)\n",
    "y_hattrain4 = baseline_model.predict(X_trainvec4)\n",
    "\n",
    "plot_confusion_matrix(baseline_model, X_testvec4,y_test4,display_labels=['rap','pop'])"
   ]
  },
  {
   "cell_type": "code",
   "execution_count": 520,
   "metadata": {},
   "outputs": [
    {
     "name": "stdout",
     "output_type": "stream",
     "text": [
      "Test Data Classification Report\n",
      "_________________________________\n",
      "              precision    recall  f1-score   support\n",
      "\n",
      "           1       0.93      0.83      0.88       273\n",
      "           2       0.84      0.94      0.89       262\n",
      "\n",
      "    accuracy                           0.88       535\n",
      "   macro avg       0.89      0.89      0.88       535\n",
      "weighted avg       0.89      0.88      0.88       535\n",
      "\n",
      "Training Data Classification Report\n",
      "_________________________________\n",
      "              precision    recall  f1-score   support\n",
      "\n",
      "           1       0.97      0.86      0.91       811\n",
      "           2       0.87      0.97      0.92       791\n",
      "\n",
      "    accuracy                           0.92      1602\n",
      "   macro avg       0.92      0.92      0.92      1602\n",
      "weighted avg       0.92      0.92      0.92      1602\n",
      "\n"
     ]
    }
   ],
   "source": [
    "reporttest4=classification_report(y_test4, y_hattest4)\n",
    "reporttrain4=classification_report(y_train4, y_hattrain4)\n",
    "\n",
    "print('Test Data Classification Report')\n",
    "print('_________________________________')\n",
    "print(reporttest4)\n",
    "print('Training Data Classification Report')\n",
    "print('_________________________________')\n",
    "print(reporttrain4)"
   ]
  },
  {
   "cell_type": "markdown",
   "metadata": {
    "scrolled": true
   },
   "source": [
    "### Model 5: Gridsearch on Random Forest Classifier - TF-IDF"
   ]
  },
  {
   "cell_type": "markdown",
   "metadata": {},
   "source": [
    "In an effort to improve model performance for the Random Forest classifier, a grid search is used in order to identify potential parameters, to see if application would outperform the Naive Bayes model. Results as depicted below show that while falsely identified Pop songs were mitigated a bit, and overall recall performance improved from the initial Random Forest model, the Naive Bayes model still outperforms the Random Forest model. "
   ]
  },
  {
   "cell_type": "code",
   "execution_count": 525,
   "metadata": {},
   "outputs": [
    {
     "data": {
      "text/plain": [
       "{'max_depth': 9, 'max_features': 4, 'n_estimators': 60}"
      ]
     },
     "execution_count": 525,
     "metadata": {},
     "output_type": "execute_result"
    }
   ],
   "source": [
    "depth = [i for i in range(6,10,1)]\n",
    "features=[i for i in range(3,7,1)]\n",
    "estimators=[i for i in range(20,80,10)]\n",
    "\n",
    "# Create the dictionary with parameters to be checked\n",
    "parameters = dict(max_depth=depth, max_features=features, n_estimators=estimators)\n",
    "forest2=RandomForestClassifier(random_state=11)\n",
    "\n",
    "search=GridSearchCV(forest2,parameters,cv=3,return_train_score=True)\n",
    "search.fit(X_trainvec4,y_train4)\n",
    "\n",
    "search.best_params_"
   ]
  },
  {
   "cell_type": "code",
   "execution_count": 526,
   "metadata": {
    "scrolled": true
   },
   "outputs": [
    {
     "data": {
      "text/plain": [
       "<sklearn.metrics._plot.confusion_matrix.ConfusionMatrixDisplay at 0x13628f363d0>"
      ]
     },
     "execution_count": 526,
     "metadata": {},
     "output_type": "execute_result"
    },
    {
     "data": {
      "image/png": "[encoded data removed]",
      "text/plain": [
       "<Figure size 432x288 with 2 Axes>"
      ]
     },
     "metadata": {
      "needs_background": "light"
     },
     "output_type": "display_data"
    }
   ],
   "source": [
    "forest3=RandomForestClassifier(max_depth=9,max_features=4,n_estimators=60)\n",
    "\n",
    "forest3.fit(X_trainvec4, y_train4)\n",
    "y_hattest5 = forest3.predict(X_testvec4)\n",
    "y_hattrain5 = forest3.predict(X_trainvec4)\n",
    "\n",
    "plot_confusion_matrix(forest3, X_testvec4,y_test4,display_labels=['rap','pop'])"
   ]
  },
  {
   "cell_type": "code",
   "execution_count": 527,
   "metadata": {},
   "outputs": [
    {
     "name": "stdout",
     "output_type": "stream",
     "text": [
      "Test Data Classification Report\n",
      "_________________________________\n",
      "              precision    recall  f1-score   support\n",
      "\n",
      "           1       1.00      0.80      0.89       273\n",
      "           2       0.83      1.00      0.90       262\n",
      "\n",
      "    accuracy                           0.90       535\n",
      "   macro avg       0.91      0.90      0.89       535\n",
      "weighted avg       0.91      0.90      0.89       535\n",
      "\n",
      "Training Data Classification Report\n",
      "_________________________________\n",
      "              precision    recall  f1-score   support\n",
      "\n",
      "           1       1.00      0.79      0.88       811\n",
      "           2       0.82      1.00      0.90       791\n",
      "\n",
      "    accuracy                           0.89      1602\n",
      "   macro avg       0.91      0.89      0.89      1602\n",
      "weighted avg       0.91      0.89      0.89      1602\n",
      "\n"
     ]
    }
   ],
   "source": [
    "reporttest5=classification_report(y_test4, y_hattest5)\n",
    "reporttrain5=classification_report(y_train4, y_hattrain5)\n",
    "\n",
    "print('Test Data Classification Report')\n",
    "print('_________________________________')\n",
    "print(reporttest5)\n",
    "print('Training Data Classification Report')\n",
    "print('_________________________________')\n",
    "print(reporttrain5)"
   ]
  },
  {
   "cell_type": "markdown",
   "metadata": {},
   "source": [
    "\n",
    "\n",
    "\n"
   ]
  },
  {
   "cell_type": "markdown",
   "metadata": {},
   "source": [
    "#  Classifier Results Evaluation"
   ]
  },
  {
   "cell_type": "markdown",
   "metadata": {},
   "source": [
    "When considering a matter as sensitive as music genre, the distribution of words chosen across artist's song lyrics have a large impact on how their music is perceived and recognized by cultures and communities. The final model created, using a Multinomial Naive Bayes classifier with a TF-IDF vectorizer, was able to predict song genre given song lyrics with an accuracy of 88% for test data and 92% for training data. \n",
    "\n",
    "A classification report and confusion matrix of the classifier model can be seen below across the test/train datasets."
   ]
  },
  {
   "cell_type": "code",
   "execution_count": 530,
   "metadata": {},
   "outputs": [
    {
     "name": "stdout",
     "output_type": "stream",
     "text": [
      "Test Data Classification Report\n",
      "_________________________________\n",
      "              precision    recall  f1-score   support\n",
      "\n",
      "           1       0.93      0.83      0.88       273\n",
      "           2       0.84      0.94      0.89       262\n",
      "\n",
      "    accuracy                           0.88       535\n",
      "   macro avg       0.89      0.89      0.88       535\n",
      "weighted avg       0.89      0.88      0.88       535\n",
      "\n",
      "Training Data Classification Report\n",
      "_________________________________\n",
      "              precision    recall  f1-score   support\n",
      "\n",
      "           1       0.97      0.86      0.91       811\n",
      "           2       0.87      0.97      0.92       791\n",
      "\n",
      "    accuracy                           0.92      1602\n",
      "   macro avg       0.92      0.92      0.92      1602\n",
      "weighted avg       0.92      0.92      0.92      1602\n",
      "\n"
     ]
    }
   ],
   "source": [
    "print('Test Data Classification Report')\n",
    "print('_________________________________')\n",
    "print(reporttest4)\n",
    "print('Training Data Classification Report')\n",
    "print('_________________________________')\n",
    "print(reporttrain4)"
   ]
  },
  {
   "cell_type": "code",
   "execution_count": 532,
   "metadata": {},
   "outputs": [
    {
     "data": {
      "text/plain": [
       "<sklearn.metrics._plot.confusion_matrix.ConfusionMatrixDisplay at 0x1362a886280>"
      ]
     },
     "execution_count": 532,
     "metadata": {},
     "output_type": "execute_result"
    },
    {
     "data": {
      "image/png": "[encoded data removed]",
      "text/plain": [
       "<Figure size 432x288 with 2 Axes>"
      ]
     },
     "metadata": {
      "needs_background": "light"
     },
     "output_type": "display_data"
    }
   ],
   "source": [
    "plot_confusion_matrix(baseline_model, X_testvec4,y_test4,display_labels=['Rap','Pop'])"
   ]
  },
  {
   "cell_type": "markdown",
   "metadata": {},
   "source": [
    "For the test data, recall was far higher than precision for Pop predictions, which implies the model was better at correctly selecting true Pop songs, rather than predicting whether a song was truly Pop/Rap. On the contrary, recall for Rap songs was far lower. This means the model tends to favor assigning false positive Pop songs. The tendency to designate false positive Pop songs can be overlooked since the recall % of overall genre predictions were high, which is the main target metric of success within the model. \n",
    "\n",
    "For the training data, similar trends can be seen within precision, recall, and f1-score for Rap/Pop predictions, but the model was slightly better with the data it was trained on. Both test/training predictions having ~90% accuracy implies that there is negligible overfitting on the final model. \n",
    "\n",
    "Below, the consolidated/lemmatized data for word distributions across the artists in the dataset can be observed. Model performance being largely successful can be rationalized by simply looking at the evident difference in word composition between artists. "
   ]
  },
  {
   "cell_type": "code",
   "execution_count": 533,
   "metadata": {},
   "outputs": [
    {
     "data": {
      "image/png": "[encoded data removed]",
      "text/plain": [
       "<Figure size 1080x1080 with 7 Axes>"
      ]
     },
     "metadata": {
      "needs_background": "light"
     },
     "output_type": "display_data"
    }
   ],
   "source": [
    "fig, axes3 = setup_seven_subplots()\n",
    "\n",
    "plot_distribution_of_column_by_category(lyricdata, axes3)\n",
    "fig.suptitle(\"Word Frequencies for All Tokens\", fontsize=24);"
   ]
  },
  {
   "cell_type": "markdown",
   "metadata": {},
   "source": [
    "## Observed Profanity\n",
    "\n",
    "A common thread linking most rap music since its inception in the late 80s/early 90s is the prevalence of profanity. For the rap artists included in the data set this is evident, especially with Eminem, who is notorious for being a \"NSFW\" artist. A large part of this tendency may be holdover influence from the \"gangster rap\" movement in the 90s, music containing themes of violence/perceived vulgar subject matter. Between the rap and pop genres, it is undeniable that the prevalence had a large effect on the classifier's success. Pop music is generally perceived as family-friendly, radio-friendly music that is palatable for all ages through all mediums, hence its popularity. While profane words took several of the top 15 slots  across the rap artists, no profanity was seen in any of the pop artist lyrics. \n",
    "\n",
    "## Perceived Gender\n",
    "\n",
    "In hindsight, gender did have an inherent influence on the success of the results. The rap genre was solely comprised of male artists, and aside from Maroon 5, the pop genre was solely comprised of female artists. While music should ideally be universal, where anyone regardless of gender can relate on some level with a song, the word frequency shows an evident disconnect from this idea. This is to be expected, as artist write music about their own personal experiences, one of the most prevalent topics being about heartbreak/love. In the male rap artists (who are known as heterosexual), some songs can be seen directed to/referencing women; the use of female-oriented words like b**** (while problematic) and girl are seen in all rappers' top slots. Similarly in pop songs, words like baby and boy and love are far more prevalent. This inherent  bias seen through gender likely had a great effect on the successful model classification."
   ]
  },
  {
   "cell_type": "markdown",
   "metadata": {},
   "source": [
    "## Recommendations/Conclusion\n",
    "\n",
    "\n",
    "The model was able to successfully assign the majority of songs within the testing dataset to their respective listed genres, solely through the use of song lyrics. While an 90% accuracy across both test/training data may be seen as a poorly performing model when considering perceived blatant differences between artists, there is a bit of overlap in subject matter between mainstream Pop and Rap songs especially when considering the artists in the dataset. \n",
    "\n",
    "Some may say the line is blurred for rappers like Post Malone and Drake, who are frequently observed experimenting with new instruments/lyrical styles in their music in an effort to appeal to wider audiences. Similarly, Pop artists frequently have features by Rap artists in their recent songs, examples of cross-genre collaboration seen with Katy Perry & Snoop Dogg, Adam Levine and Kanye West, BTS and Nicki Minaj. More definitive/improved model performance may be seen when using data sourced exclusively from 90's music, when the genres were observed as largely being mutually exclusive.\n",
    "\n",
    "\n",
    "The findings of this model show that there is inherent correlation with lyrical subject matter/composition and perceived genre. Regarding the stakeholders, Spotify and Pandora, genre recognition through lyrics has massive implications on how music recommendation can be reworked/improved. The ability to identify commonalities through songs that have similar lyrical themes can expose users to music that truly fits their mood, improving customer experience and retention. While this project was a very rudimentary look into a new lens of song classification, the results and framework of this model could be extended to a new form of general music classification/song recommendation. Since the experience of listening to music is so fundamentally nuanced from person to person, being able to succesfully recommend exactly what someone is looking for has limitless applications for the future of music streaming.\n",
    " \n",
    "\n",
    "### Next Steps\n",
    "\n",
    "Inherently, subject matter, cultural shifts, and pop culture have changed drastically within the last 30 years, largely due to the advent of the internet. It would be interesting to see this model performed on music lyrics from the 90s, when the rap and pop genres were widely seen as distinctly different. From a broader perspective, the artists selected within this dataset can all be classified as mainstream pop music to some. Outside of the lens of rap and pop, different genres could be also compared, such as country and soul, to see if there may be inherent overlap/differing characteristics.\n",
    "\n",
    "Another route of improvement would be to classify using bigrams as a supplement. This factor was not addressed during the final iterations of the model as the words involved, regardless of context, were distinct enough to make successful classifications, seen by the final performance. Tying this back to the prior point regarding gender, it would be interesting to see the context in which women are talked about in either genre, and if implementing those specific bigrams would improve performance further. \n",
    "\n",
    "Another route of improvement would be to think about genre from a wider perspective. Similar to the point brought up in the conclusion, This would involve information-gathering to understand public sentiment towards a set of songs. Being able to classify songs based on the induced feeling within a listener would improve current recommendations systems to a great degree. Additional columns describing mood could be created in the dataset and implemented in a new model. "
   ]
  }
 ],
 "metadata": {
  "kernelspec": {
   "display_name": "Python 3",
   "language": "python",
   "name": "python3"
  },
  "language_info": {
   "codemirror_mode": {
    "name": "ipython",
    "version": 3
   },
   "file_extension": ".py",
   "mimetype": "text/x-python",
   "name": "python",
   "nbconvert_exporter": "python",
   "pygments_lexer": "ipython3",
   "version": "3.8.5"
  }
 },
 "nbformat": 4,
 "nbformat_minor": 2
}
